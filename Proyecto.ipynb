{
  "nbformat": 4,
  "nbformat_minor": 0,
  "metadata": {
    "colab": {
      "provenance": []
    },
    "kernelspec": {
      "name": "python3",
      "display_name": "Python 3"
    },
    "language_info": {
      "name": "python"
    }
  },
  "cells": [
    {
      "cell_type": "code",
      "execution_count": 4,
      "metadata": {
        "id": "cab8zcyc8yWh"
      },
      "outputs": [],
      "source": [
        "import numpy as np\n",
        "import pandas as pd\n",
        "import matplotlib.pyplot as plt\n",
        "import seaborn as sns"
      ]
    },
    {
      "cell_type": "code",
      "source": [
        "from google.colab import drive\n",
        "drive.mount('/gdrive')"
      ],
      "metadata": {
        "colab": {
          "base_uri": "https://localhost:8080/"
        },
        "id": "DiJ572Rt9WIG",
        "outputId": "752aac36-13ad-4fb0-ec37-c4feaafb8bc1"
      },
      "execution_count": 5,
      "outputs": [
        {
          "output_type": "stream",
          "name": "stdout",
          "text": [
            "Mounted at /gdrive\n"
          ]
        }
      ]
    },
    {
      "cell_type": "code",
      "source": [
        "from google.colab import drive\n",
        "drive.mount('/content/drive')"
      ],
      "metadata": {
        "colab": {
          "base_uri": "https://localhost:8080/"
        },
        "id": "Po0qosD39ZC9",
        "outputId": "8512ee3f-48af-4fae-e2a9-2ecb8d5b5788"
      },
      "execution_count": 6,
      "outputs": [
        {
          "output_type": "stream",
          "name": "stdout",
          "text": [
            "Mounted at /content/drive\n"
          ]
        }
      ]
    },
    {
      "cell_type": "code",
      "source": [
        "df_1 = pd.read_csv(\"/content/drive/MyDrive/Datasets/ESTUDIO DE LOS ESPERA EN LA CAFETERÍA DE LA UNIVERSIDAD AUTÓNOMA DE OCCIDENTE, CALI. (respuestas) - Respuestas de formulario 1.csv\")"
      ],
      "metadata": {
        "id": "lJALAwBv9khV"
      },
      "execution_count": 7,
      "outputs": []
    },
    {
      "cell_type": "code",
      "source": [
        "df_2=pd.read_csv(\"/content/drive/MyDrive/Datasets/Cafetería UAO (Respuestas) - Respuestas de formulario 1 - Cafetería UAO (Respuestas) - Respuestas de formulario 1.csv\")"
      ],
      "metadata": {
        "id": "4mLF2UdP1b8j"
      },
      "execution_count": 8,
      "outputs": []
    },
    {
      "cell_type": "code",
      "source": [
        "df_1.shape"
      ],
      "metadata": {
        "id": "n0CTiWSW9_IT",
        "colab": {
          "base_uri": "https://localhost:8080/"
        },
        "outputId": "7c37ff3a-85f0-4e4c-e0d4-3f6d1721ce0e"
      },
      "execution_count": 9,
      "outputs": [
        {
          "output_type": "execute_result",
          "data": {
            "text/plain": [
              "(45, 9)"
            ]
          },
          "metadata": {},
          "execution_count": 9
        }
      ]
    },
    {
      "cell_type": "code",
      "source": [
        "df_1.info()"
      ],
      "metadata": {
        "id": "yAHeQlCu-INj",
        "colab": {
          "base_uri": "https://localhost:8080/"
        },
        "outputId": "94aa2e0c-cdc5-410c-aed5-420cb5ed07df"
      },
      "execution_count": 10,
      "outputs": [
        {
          "output_type": "stream",
          "name": "stdout",
          "text": [
            "<class 'pandas.core.frame.DataFrame'>\n",
            "RangeIndex: 45 entries, 0 to 44\n",
            "Data columns (total 9 columns):\n",
            " #   Column          Non-Null Count  Dtype \n",
            "---  ------          --------------  ----- \n",
            " 0   Marca temporal  45 non-null     object\n",
            " 1   consentimiento  45 non-null     object\n",
            " 2   Nombre          45 non-null     object\n",
            " 3   tiempo          45 non-null     object\n",
            " 4   frecuencia      45 non-null     object\n",
            " 5   satisfaccion    45 non-null     object\n",
            " 6   experiencias    45 non-null     object\n",
            " 7   factores        45 non-null     object\n",
            " 8   sugerencias     42 non-null     object\n",
            "dtypes: object(9)\n",
            "memory usage: 3.3+ KB\n"
          ]
        }
      ]
    },
    {
      "cell_type": "code",
      "source": [
        "df_1.tail()"
      ],
      "metadata": {
        "id": "OHojVqXe-YrA",
        "colab": {
          "base_uri": "https://localhost:8080/",
          "height": 293
        },
        "outputId": "c9f79376-361a-429c-9c52-c4c26d6b0321"
      },
      "execution_count": 11,
      "outputs": [
        {
          "output_type": "execute_result",
          "data": {
            "text/plain": [
              "         Marca temporal consentimiento                        Nombre  \\\n",
              "40  15/04/2024 22:22:17         Acepto       Manuel Alejandro Gruezo   \n",
              "41  15/04/2024 23:12:40         Acepto  Dillan Steven Molina Castro    \n",
              "42  16/04/2024 11:28:12         Acepto             Juan Andrés Hoyos   \n",
              "43  16/04/2024 11:30:56      No acepto                 Juan saldaña    \n",
              "44  16/04/2024 11:32:03         Acepto           Miguel David Arroyo   \n",
              "\n",
              "                  tiempo               frecuencia  satisfaccion  \\\n",
              "40    Menos de 5 minutos  Varias veces por semana    Satisfecho   \n",
              "41  Entre 5 y 10 minutos              Diariamente    Satisfecho   \n",
              "42  Entre 5 y 10 minutos              Diariamente  Insatisfecho   \n",
              "43  Entre 5 y 10 minutos  Varias veces por semana  Insatisfecho   \n",
              "44  Entre 5 y 10 minutos     Dos veces por semana  Insatisfecho   \n",
              "\n",
              "                                        experiencias  \\\n",
              "40   Mediodía (entre las 11:00 a.m. y las 2:00 p.m.)   \n",
              "41  No he experimentado tiempos de espera más largos   \n",
              "42   Mediodía (entre las 11:00 a.m. y las 2:00 p.m.)   \n",
              "43   Mediodía (entre las 11:00 a.m. y las 2:00 p.m.)   \n",
              "44   Mediodía (entre las 11:00 a.m. y las 2:00 p.m.)   \n",
              "\n",
              "                                             factores  \\\n",
              "40           Demanda alta en ciertos momentos del día   \n",
              "41  Falta de personal, Demanda alta en ciertos mom...   \n",
              "42           Demanda alta en ciertos momentos del día   \n",
              "43  Demanda alta en ciertos momentos del día, Proc...   \n",
              "44           Demanda alta en ciertos momentos del día   \n",
              "\n",
              "                                          sugerencias  \n",
              "40                                     Digitalización  \n",
              "41  Más personal y espacio más adecuados para sati...  \n",
              "42  Cambien los locales tan malucos y caros por co...  \n",
              "43                                           Ninguna   \n",
              "44  Mejorar la atención y los tiempos entre las 10...  "
            ],
            "text/html": [
              "\n",
              "  <div id=\"df-99154e35-50bc-49b2-961b-4a84cbe7feb4\" class=\"colab-df-container\">\n",
              "    <div>\n",
              "<style scoped>\n",
              "    .dataframe tbody tr th:only-of-type {\n",
              "        vertical-align: middle;\n",
              "    }\n",
              "\n",
              "    .dataframe tbody tr th {\n",
              "        vertical-align: top;\n",
              "    }\n",
              "\n",
              "    .dataframe thead th {\n",
              "        text-align: right;\n",
              "    }\n",
              "</style>\n",
              "<table border=\"1\" class=\"dataframe\">\n",
              "  <thead>\n",
              "    <tr style=\"text-align: right;\">\n",
              "      <th></th>\n",
              "      <th>Marca temporal</th>\n",
              "      <th>consentimiento</th>\n",
              "      <th>Nombre</th>\n",
              "      <th>tiempo</th>\n",
              "      <th>frecuencia</th>\n",
              "      <th>satisfaccion</th>\n",
              "      <th>experiencias</th>\n",
              "      <th>factores</th>\n",
              "      <th>sugerencias</th>\n",
              "    </tr>\n",
              "  </thead>\n",
              "  <tbody>\n",
              "    <tr>\n",
              "      <th>40</th>\n",
              "      <td>15/04/2024 22:22:17</td>\n",
              "      <td>Acepto</td>\n",
              "      <td>Manuel Alejandro Gruezo</td>\n",
              "      <td>Menos de 5 minutos</td>\n",
              "      <td>Varias veces por semana</td>\n",
              "      <td>Satisfecho</td>\n",
              "      <td>Mediodía (entre las 11:00 a.m. y las 2:00 p.m.)</td>\n",
              "      <td>Demanda alta en ciertos momentos del día</td>\n",
              "      <td>Digitalización</td>\n",
              "    </tr>\n",
              "    <tr>\n",
              "      <th>41</th>\n",
              "      <td>15/04/2024 23:12:40</td>\n",
              "      <td>Acepto</td>\n",
              "      <td>Dillan Steven Molina Castro</td>\n",
              "      <td>Entre 5 y 10 minutos</td>\n",
              "      <td>Diariamente</td>\n",
              "      <td>Satisfecho</td>\n",
              "      <td>No he experimentado tiempos de espera más largos</td>\n",
              "      <td>Falta de personal, Demanda alta en ciertos mom...</td>\n",
              "      <td>Más personal y espacio más adecuados para sati...</td>\n",
              "    </tr>\n",
              "    <tr>\n",
              "      <th>42</th>\n",
              "      <td>16/04/2024 11:28:12</td>\n",
              "      <td>Acepto</td>\n",
              "      <td>Juan Andrés Hoyos</td>\n",
              "      <td>Entre 5 y 10 minutos</td>\n",
              "      <td>Diariamente</td>\n",
              "      <td>Insatisfecho</td>\n",
              "      <td>Mediodía (entre las 11:00 a.m. y las 2:00 p.m.)</td>\n",
              "      <td>Demanda alta en ciertos momentos del día</td>\n",
              "      <td>Cambien los locales tan malucos y caros por co...</td>\n",
              "    </tr>\n",
              "    <tr>\n",
              "      <th>43</th>\n",
              "      <td>16/04/2024 11:30:56</td>\n",
              "      <td>No acepto</td>\n",
              "      <td>Juan saldaña</td>\n",
              "      <td>Entre 5 y 10 minutos</td>\n",
              "      <td>Varias veces por semana</td>\n",
              "      <td>Insatisfecho</td>\n",
              "      <td>Mediodía (entre las 11:00 a.m. y las 2:00 p.m.)</td>\n",
              "      <td>Demanda alta en ciertos momentos del día, Proc...</td>\n",
              "      <td>Ninguna</td>\n",
              "    </tr>\n",
              "    <tr>\n",
              "      <th>44</th>\n",
              "      <td>16/04/2024 11:32:03</td>\n",
              "      <td>Acepto</td>\n",
              "      <td>Miguel David Arroyo</td>\n",
              "      <td>Entre 5 y 10 minutos</td>\n",
              "      <td>Dos veces por semana</td>\n",
              "      <td>Insatisfecho</td>\n",
              "      <td>Mediodía (entre las 11:00 a.m. y las 2:00 p.m.)</td>\n",
              "      <td>Demanda alta en ciertos momentos del día</td>\n",
              "      <td>Mejorar la atención y los tiempos entre las 10...</td>\n",
              "    </tr>\n",
              "  </tbody>\n",
              "</table>\n",
              "</div>\n",
              "    <div class=\"colab-df-buttons\">\n",
              "\n",
              "  <div class=\"colab-df-container\">\n",
              "    <button class=\"colab-df-convert\" onclick=\"convertToInteractive('df-99154e35-50bc-49b2-961b-4a84cbe7feb4')\"\n",
              "            title=\"Convert this dataframe to an interactive table.\"\n",
              "            style=\"display:none;\">\n",
              "\n",
              "  <svg xmlns=\"http://www.w3.org/2000/svg\" height=\"24px\" viewBox=\"0 -960 960 960\">\n",
              "    <path d=\"M120-120v-720h720v720H120Zm60-500h600v-160H180v160Zm220 220h160v-160H400v160Zm0 220h160v-160H400v160ZM180-400h160v-160H180v160Zm440 0h160v-160H620v160ZM180-180h160v-160H180v160Zm440 0h160v-160H620v160Z\"/>\n",
              "  </svg>\n",
              "    </button>\n",
              "\n",
              "  <style>\n",
              "    .colab-df-container {\n",
              "      display:flex;\n",
              "      gap: 12px;\n",
              "    }\n",
              "\n",
              "    .colab-df-convert {\n",
              "      background-color: #E8F0FE;\n",
              "      border: none;\n",
              "      border-radius: 50%;\n",
              "      cursor: pointer;\n",
              "      display: none;\n",
              "      fill: #1967D2;\n",
              "      height: 32px;\n",
              "      padding: 0 0 0 0;\n",
              "      width: 32px;\n",
              "    }\n",
              "\n",
              "    .colab-df-convert:hover {\n",
              "      background-color: #E2EBFA;\n",
              "      box-shadow: 0px 1px 2px rgba(60, 64, 67, 0.3), 0px 1px 3px 1px rgba(60, 64, 67, 0.15);\n",
              "      fill: #174EA6;\n",
              "    }\n",
              "\n",
              "    .colab-df-buttons div {\n",
              "      margin-bottom: 4px;\n",
              "    }\n",
              "\n",
              "    [theme=dark] .colab-df-convert {\n",
              "      background-color: #3B4455;\n",
              "      fill: #D2E3FC;\n",
              "    }\n",
              "\n",
              "    [theme=dark] .colab-df-convert:hover {\n",
              "      background-color: #434B5C;\n",
              "      box-shadow: 0px 1px 3px 1px rgba(0, 0, 0, 0.15);\n",
              "      filter: drop-shadow(0px 1px 2px rgba(0, 0, 0, 0.3));\n",
              "      fill: #FFFFFF;\n",
              "    }\n",
              "  </style>\n",
              "\n",
              "    <script>\n",
              "      const buttonEl =\n",
              "        document.querySelector('#df-99154e35-50bc-49b2-961b-4a84cbe7feb4 button.colab-df-convert');\n",
              "      buttonEl.style.display =\n",
              "        google.colab.kernel.accessAllowed ? 'block' : 'none';\n",
              "\n",
              "      async function convertToInteractive(key) {\n",
              "        const element = document.querySelector('#df-99154e35-50bc-49b2-961b-4a84cbe7feb4');\n",
              "        const dataTable =\n",
              "          await google.colab.kernel.invokeFunction('convertToInteractive',\n",
              "                                                    [key], {});\n",
              "        if (!dataTable) return;\n",
              "\n",
              "        const docLinkHtml = 'Like what you see? Visit the ' +\n",
              "          '<a target=\"_blank\" href=https://colab.research.google.com/notebooks/data_table.ipynb>data table notebook</a>'\n",
              "          + ' to learn more about interactive tables.';\n",
              "        element.innerHTML = '';\n",
              "        dataTable['output_type'] = 'display_data';\n",
              "        await google.colab.output.renderOutput(dataTable, element);\n",
              "        const docLink = document.createElement('div');\n",
              "        docLink.innerHTML = docLinkHtml;\n",
              "        element.appendChild(docLink);\n",
              "      }\n",
              "    </script>\n",
              "  </div>\n",
              "\n",
              "\n",
              "<div id=\"df-83e7ecf0-48c3-4d21-a64f-c51401f51c95\">\n",
              "  <button class=\"colab-df-quickchart\" onclick=\"quickchart('df-83e7ecf0-48c3-4d21-a64f-c51401f51c95')\"\n",
              "            title=\"Suggest charts\"\n",
              "            style=\"display:none;\">\n",
              "\n",
              "<svg xmlns=\"http://www.w3.org/2000/svg\" height=\"24px\"viewBox=\"0 0 24 24\"\n",
              "     width=\"24px\">\n",
              "    <g>\n",
              "        <path d=\"M19 3H5c-1.1 0-2 .9-2 2v14c0 1.1.9 2 2 2h14c1.1 0 2-.9 2-2V5c0-1.1-.9-2-2-2zM9 17H7v-7h2v7zm4 0h-2V7h2v10zm4 0h-2v-4h2v4z\"/>\n",
              "    </g>\n",
              "</svg>\n",
              "  </button>\n",
              "\n",
              "<style>\n",
              "  .colab-df-quickchart {\n",
              "      --bg-color: #E8F0FE;\n",
              "      --fill-color: #1967D2;\n",
              "      --hover-bg-color: #E2EBFA;\n",
              "      --hover-fill-color: #174EA6;\n",
              "      --disabled-fill-color: #AAA;\n",
              "      --disabled-bg-color: #DDD;\n",
              "  }\n",
              "\n",
              "  [theme=dark] .colab-df-quickchart {\n",
              "      --bg-color: #3B4455;\n",
              "      --fill-color: #D2E3FC;\n",
              "      --hover-bg-color: #434B5C;\n",
              "      --hover-fill-color: #FFFFFF;\n",
              "      --disabled-bg-color: #3B4455;\n",
              "      --disabled-fill-color: #666;\n",
              "  }\n",
              "\n",
              "  .colab-df-quickchart {\n",
              "    background-color: var(--bg-color);\n",
              "    border: none;\n",
              "    border-radius: 50%;\n",
              "    cursor: pointer;\n",
              "    display: none;\n",
              "    fill: var(--fill-color);\n",
              "    height: 32px;\n",
              "    padding: 0;\n",
              "    width: 32px;\n",
              "  }\n",
              "\n",
              "  .colab-df-quickchart:hover {\n",
              "    background-color: var(--hover-bg-color);\n",
              "    box-shadow: 0 1px 2px rgba(60, 64, 67, 0.3), 0 1px 3px 1px rgba(60, 64, 67, 0.15);\n",
              "    fill: var(--button-hover-fill-color);\n",
              "  }\n",
              "\n",
              "  .colab-df-quickchart-complete:disabled,\n",
              "  .colab-df-quickchart-complete:disabled:hover {\n",
              "    background-color: var(--disabled-bg-color);\n",
              "    fill: var(--disabled-fill-color);\n",
              "    box-shadow: none;\n",
              "  }\n",
              "\n",
              "  .colab-df-spinner {\n",
              "    border: 2px solid var(--fill-color);\n",
              "    border-color: transparent;\n",
              "    border-bottom-color: var(--fill-color);\n",
              "    animation:\n",
              "      spin 1s steps(1) infinite;\n",
              "  }\n",
              "\n",
              "  @keyframes spin {\n",
              "    0% {\n",
              "      border-color: transparent;\n",
              "      border-bottom-color: var(--fill-color);\n",
              "      border-left-color: var(--fill-color);\n",
              "    }\n",
              "    20% {\n",
              "      border-color: transparent;\n",
              "      border-left-color: var(--fill-color);\n",
              "      border-top-color: var(--fill-color);\n",
              "    }\n",
              "    30% {\n",
              "      border-color: transparent;\n",
              "      border-left-color: var(--fill-color);\n",
              "      border-top-color: var(--fill-color);\n",
              "      border-right-color: var(--fill-color);\n",
              "    }\n",
              "    40% {\n",
              "      border-color: transparent;\n",
              "      border-right-color: var(--fill-color);\n",
              "      border-top-color: var(--fill-color);\n",
              "    }\n",
              "    60% {\n",
              "      border-color: transparent;\n",
              "      border-right-color: var(--fill-color);\n",
              "    }\n",
              "    80% {\n",
              "      border-color: transparent;\n",
              "      border-right-color: var(--fill-color);\n",
              "      border-bottom-color: var(--fill-color);\n",
              "    }\n",
              "    90% {\n",
              "      border-color: transparent;\n",
              "      border-bottom-color: var(--fill-color);\n",
              "    }\n",
              "  }\n",
              "</style>\n",
              "\n",
              "  <script>\n",
              "    async function quickchart(key) {\n",
              "      const quickchartButtonEl =\n",
              "        document.querySelector('#' + key + ' button');\n",
              "      quickchartButtonEl.disabled = true;  // To prevent multiple clicks.\n",
              "      quickchartButtonEl.classList.add('colab-df-spinner');\n",
              "      try {\n",
              "        const charts = await google.colab.kernel.invokeFunction(\n",
              "            'suggestCharts', [key], {});\n",
              "      } catch (error) {\n",
              "        console.error('Error during call to suggestCharts:', error);\n",
              "      }\n",
              "      quickchartButtonEl.classList.remove('colab-df-spinner');\n",
              "      quickchartButtonEl.classList.add('colab-df-quickchart-complete');\n",
              "    }\n",
              "    (() => {\n",
              "      let quickchartButtonEl =\n",
              "        document.querySelector('#df-83e7ecf0-48c3-4d21-a64f-c51401f51c95 button');\n",
              "      quickchartButtonEl.style.display =\n",
              "        google.colab.kernel.accessAllowed ? 'block' : 'none';\n",
              "    })();\n",
              "  </script>\n",
              "</div>\n",
              "    </div>\n",
              "  </div>\n"
            ],
            "application/vnd.google.colaboratory.intrinsic+json": {
              "type": "dataframe",
              "repr_error": "0"
            }
          },
          "metadata": {},
          "execution_count": 11
        }
      ]
    },
    {
      "cell_type": "code",
      "source": [
        "df_1.describe()"
      ],
      "metadata": {
        "id": "qUHzKvfE-j41",
        "colab": {
          "base_uri": "https://localhost:8080/",
          "height": 175
        },
        "outputId": "0584dca2-e175-4025-8457-e99d56c42805"
      },
      "execution_count": 12,
      "outputs": [
        {
          "output_type": "execute_result",
          "data": {
            "text/plain": [
              "             Marca temporal consentimiento        Nombre  \\\n",
              "count                    45             45            45   \n",
              "unique                   45              2            44   \n",
              "top     11/04/2024 22:30:59         Acepto  Samuel Uribe   \n",
              "freq                      1             43             2   \n",
              "\n",
              "                      tiempo               frecuencia  satisfaccion  \\\n",
              "count                     45                       45            45   \n",
              "unique                     3                        5             4   \n",
              "top     Entre 5 y 10 minutos  Varias veces por semana  Insatisfecho   \n",
              "freq                      25                       17            22   \n",
              "\n",
              "                                           experiencias  \\\n",
              "count                                                45   \n",
              "unique                                                2   \n",
              "top     Mediodía (entre las 11:00 a.m. y las 2:00 p.m.)   \n",
              "freq                                                 39   \n",
              "\n",
              "                                        factores sugerencias  \n",
              "count                                         45          42  \n",
              "unique                                         6          34  \n",
              "top     Demanda alta en ciertos momentos del día          No  \n",
              "freq                                          29           5  "
            ],
            "text/html": [
              "\n",
              "  <div id=\"df-5284c296-07bb-4968-8670-58110a138477\" class=\"colab-df-container\">\n",
              "    <div>\n",
              "<style scoped>\n",
              "    .dataframe tbody tr th:only-of-type {\n",
              "        vertical-align: middle;\n",
              "    }\n",
              "\n",
              "    .dataframe tbody tr th {\n",
              "        vertical-align: top;\n",
              "    }\n",
              "\n",
              "    .dataframe thead th {\n",
              "        text-align: right;\n",
              "    }\n",
              "</style>\n",
              "<table border=\"1\" class=\"dataframe\">\n",
              "  <thead>\n",
              "    <tr style=\"text-align: right;\">\n",
              "      <th></th>\n",
              "      <th>Marca temporal</th>\n",
              "      <th>consentimiento</th>\n",
              "      <th>Nombre</th>\n",
              "      <th>tiempo</th>\n",
              "      <th>frecuencia</th>\n",
              "      <th>satisfaccion</th>\n",
              "      <th>experiencias</th>\n",
              "      <th>factores</th>\n",
              "      <th>sugerencias</th>\n",
              "    </tr>\n",
              "  </thead>\n",
              "  <tbody>\n",
              "    <tr>\n",
              "      <th>count</th>\n",
              "      <td>45</td>\n",
              "      <td>45</td>\n",
              "      <td>45</td>\n",
              "      <td>45</td>\n",
              "      <td>45</td>\n",
              "      <td>45</td>\n",
              "      <td>45</td>\n",
              "      <td>45</td>\n",
              "      <td>42</td>\n",
              "    </tr>\n",
              "    <tr>\n",
              "      <th>unique</th>\n",
              "      <td>45</td>\n",
              "      <td>2</td>\n",
              "      <td>44</td>\n",
              "      <td>3</td>\n",
              "      <td>5</td>\n",
              "      <td>4</td>\n",
              "      <td>2</td>\n",
              "      <td>6</td>\n",
              "      <td>34</td>\n",
              "    </tr>\n",
              "    <tr>\n",
              "      <th>top</th>\n",
              "      <td>11/04/2024 22:30:59</td>\n",
              "      <td>Acepto</td>\n",
              "      <td>Samuel Uribe</td>\n",
              "      <td>Entre 5 y 10 minutos</td>\n",
              "      <td>Varias veces por semana</td>\n",
              "      <td>Insatisfecho</td>\n",
              "      <td>Mediodía (entre las 11:00 a.m. y las 2:00 p.m.)</td>\n",
              "      <td>Demanda alta en ciertos momentos del día</td>\n",
              "      <td>No</td>\n",
              "    </tr>\n",
              "    <tr>\n",
              "      <th>freq</th>\n",
              "      <td>1</td>\n",
              "      <td>43</td>\n",
              "      <td>2</td>\n",
              "      <td>25</td>\n",
              "      <td>17</td>\n",
              "      <td>22</td>\n",
              "      <td>39</td>\n",
              "      <td>29</td>\n",
              "      <td>5</td>\n",
              "    </tr>\n",
              "  </tbody>\n",
              "</table>\n",
              "</div>\n",
              "    <div class=\"colab-df-buttons\">\n",
              "\n",
              "  <div class=\"colab-df-container\">\n",
              "    <button class=\"colab-df-convert\" onclick=\"convertToInteractive('df-5284c296-07bb-4968-8670-58110a138477')\"\n",
              "            title=\"Convert this dataframe to an interactive table.\"\n",
              "            style=\"display:none;\">\n",
              "\n",
              "  <svg xmlns=\"http://www.w3.org/2000/svg\" height=\"24px\" viewBox=\"0 -960 960 960\">\n",
              "    <path d=\"M120-120v-720h720v720H120Zm60-500h600v-160H180v160Zm220 220h160v-160H400v160Zm0 220h160v-160H400v160ZM180-400h160v-160H180v160Zm440 0h160v-160H620v160ZM180-180h160v-160H180v160Zm440 0h160v-160H620v160Z\"/>\n",
              "  </svg>\n",
              "    </button>\n",
              "\n",
              "  <style>\n",
              "    .colab-df-container {\n",
              "      display:flex;\n",
              "      gap: 12px;\n",
              "    }\n",
              "\n",
              "    .colab-df-convert {\n",
              "      background-color: #E8F0FE;\n",
              "      border: none;\n",
              "      border-radius: 50%;\n",
              "      cursor: pointer;\n",
              "      display: none;\n",
              "      fill: #1967D2;\n",
              "      height: 32px;\n",
              "      padding: 0 0 0 0;\n",
              "      width: 32px;\n",
              "    }\n",
              "\n",
              "    .colab-df-convert:hover {\n",
              "      background-color: #E2EBFA;\n",
              "      box-shadow: 0px 1px 2px rgba(60, 64, 67, 0.3), 0px 1px 3px 1px rgba(60, 64, 67, 0.15);\n",
              "      fill: #174EA6;\n",
              "    }\n",
              "\n",
              "    .colab-df-buttons div {\n",
              "      margin-bottom: 4px;\n",
              "    }\n",
              "\n",
              "    [theme=dark] .colab-df-convert {\n",
              "      background-color: #3B4455;\n",
              "      fill: #D2E3FC;\n",
              "    }\n",
              "\n",
              "    [theme=dark] .colab-df-convert:hover {\n",
              "      background-color: #434B5C;\n",
              "      box-shadow: 0px 1px 3px 1px rgba(0, 0, 0, 0.15);\n",
              "      filter: drop-shadow(0px 1px 2px rgba(0, 0, 0, 0.3));\n",
              "      fill: #FFFFFF;\n",
              "    }\n",
              "  </style>\n",
              "\n",
              "    <script>\n",
              "      const buttonEl =\n",
              "        document.querySelector('#df-5284c296-07bb-4968-8670-58110a138477 button.colab-df-convert');\n",
              "      buttonEl.style.display =\n",
              "        google.colab.kernel.accessAllowed ? 'block' : 'none';\n",
              "\n",
              "      async function convertToInteractive(key) {\n",
              "        const element = document.querySelector('#df-5284c296-07bb-4968-8670-58110a138477');\n",
              "        const dataTable =\n",
              "          await google.colab.kernel.invokeFunction('convertToInteractive',\n",
              "                                                    [key], {});\n",
              "        if (!dataTable) return;\n",
              "\n",
              "        const docLinkHtml = 'Like what you see? Visit the ' +\n",
              "          '<a target=\"_blank\" href=https://colab.research.google.com/notebooks/data_table.ipynb>data table notebook</a>'\n",
              "          + ' to learn more about interactive tables.';\n",
              "        element.innerHTML = '';\n",
              "        dataTable['output_type'] = 'display_data';\n",
              "        await google.colab.output.renderOutput(dataTable, element);\n",
              "        const docLink = document.createElement('div');\n",
              "        docLink.innerHTML = docLinkHtml;\n",
              "        element.appendChild(docLink);\n",
              "      }\n",
              "    </script>\n",
              "  </div>\n",
              "\n",
              "\n",
              "<div id=\"df-4d896237-cb11-45a6-9a06-3062288daac9\">\n",
              "  <button class=\"colab-df-quickchart\" onclick=\"quickchart('df-4d896237-cb11-45a6-9a06-3062288daac9')\"\n",
              "            title=\"Suggest charts\"\n",
              "            style=\"display:none;\">\n",
              "\n",
              "<svg xmlns=\"http://www.w3.org/2000/svg\" height=\"24px\"viewBox=\"0 0 24 24\"\n",
              "     width=\"24px\">\n",
              "    <g>\n",
              "        <path d=\"M19 3H5c-1.1 0-2 .9-2 2v14c0 1.1.9 2 2 2h14c1.1 0 2-.9 2-2V5c0-1.1-.9-2-2-2zM9 17H7v-7h2v7zm4 0h-2V7h2v10zm4 0h-2v-4h2v4z\"/>\n",
              "    </g>\n",
              "</svg>\n",
              "  </button>\n",
              "\n",
              "<style>\n",
              "  .colab-df-quickchart {\n",
              "      --bg-color: #E8F0FE;\n",
              "      --fill-color: #1967D2;\n",
              "      --hover-bg-color: #E2EBFA;\n",
              "      --hover-fill-color: #174EA6;\n",
              "      --disabled-fill-color: #AAA;\n",
              "      --disabled-bg-color: #DDD;\n",
              "  }\n",
              "\n",
              "  [theme=dark] .colab-df-quickchart {\n",
              "      --bg-color: #3B4455;\n",
              "      --fill-color: #D2E3FC;\n",
              "      --hover-bg-color: #434B5C;\n",
              "      --hover-fill-color: #FFFFFF;\n",
              "      --disabled-bg-color: #3B4455;\n",
              "      --disabled-fill-color: #666;\n",
              "  }\n",
              "\n",
              "  .colab-df-quickchart {\n",
              "    background-color: var(--bg-color);\n",
              "    border: none;\n",
              "    border-radius: 50%;\n",
              "    cursor: pointer;\n",
              "    display: none;\n",
              "    fill: var(--fill-color);\n",
              "    height: 32px;\n",
              "    padding: 0;\n",
              "    width: 32px;\n",
              "  }\n",
              "\n",
              "  .colab-df-quickchart:hover {\n",
              "    background-color: var(--hover-bg-color);\n",
              "    box-shadow: 0 1px 2px rgba(60, 64, 67, 0.3), 0 1px 3px 1px rgba(60, 64, 67, 0.15);\n",
              "    fill: var(--button-hover-fill-color);\n",
              "  }\n",
              "\n",
              "  .colab-df-quickchart-complete:disabled,\n",
              "  .colab-df-quickchart-complete:disabled:hover {\n",
              "    background-color: var(--disabled-bg-color);\n",
              "    fill: var(--disabled-fill-color);\n",
              "    box-shadow: none;\n",
              "  }\n",
              "\n",
              "  .colab-df-spinner {\n",
              "    border: 2px solid var(--fill-color);\n",
              "    border-color: transparent;\n",
              "    border-bottom-color: var(--fill-color);\n",
              "    animation:\n",
              "      spin 1s steps(1) infinite;\n",
              "  }\n",
              "\n",
              "  @keyframes spin {\n",
              "    0% {\n",
              "      border-color: transparent;\n",
              "      border-bottom-color: var(--fill-color);\n",
              "      border-left-color: var(--fill-color);\n",
              "    }\n",
              "    20% {\n",
              "      border-color: transparent;\n",
              "      border-left-color: var(--fill-color);\n",
              "      border-top-color: var(--fill-color);\n",
              "    }\n",
              "    30% {\n",
              "      border-color: transparent;\n",
              "      border-left-color: var(--fill-color);\n",
              "      border-top-color: var(--fill-color);\n",
              "      border-right-color: var(--fill-color);\n",
              "    }\n",
              "    40% {\n",
              "      border-color: transparent;\n",
              "      border-right-color: var(--fill-color);\n",
              "      border-top-color: var(--fill-color);\n",
              "    }\n",
              "    60% {\n",
              "      border-color: transparent;\n",
              "      border-right-color: var(--fill-color);\n",
              "    }\n",
              "    80% {\n",
              "      border-color: transparent;\n",
              "      border-right-color: var(--fill-color);\n",
              "      border-bottom-color: var(--fill-color);\n",
              "    }\n",
              "    90% {\n",
              "      border-color: transparent;\n",
              "      border-bottom-color: var(--fill-color);\n",
              "    }\n",
              "  }\n",
              "</style>\n",
              "\n",
              "  <script>\n",
              "    async function quickchart(key) {\n",
              "      const quickchartButtonEl =\n",
              "        document.querySelector('#' + key + ' button');\n",
              "      quickchartButtonEl.disabled = true;  // To prevent multiple clicks.\n",
              "      quickchartButtonEl.classList.add('colab-df-spinner');\n",
              "      try {\n",
              "        const charts = await google.colab.kernel.invokeFunction(\n",
              "            'suggestCharts', [key], {});\n",
              "      } catch (error) {\n",
              "        console.error('Error during call to suggestCharts:', error);\n",
              "      }\n",
              "      quickchartButtonEl.classList.remove('colab-df-spinner');\n",
              "      quickchartButtonEl.classList.add('colab-df-quickchart-complete');\n",
              "    }\n",
              "    (() => {\n",
              "      let quickchartButtonEl =\n",
              "        document.querySelector('#df-4d896237-cb11-45a6-9a06-3062288daac9 button');\n",
              "      quickchartButtonEl.style.display =\n",
              "        google.colab.kernel.accessAllowed ? 'block' : 'none';\n",
              "    })();\n",
              "  </script>\n",
              "</div>\n",
              "    </div>\n",
              "  </div>\n"
            ],
            "application/vnd.google.colaboratory.intrinsic+json": {
              "type": "dataframe",
              "summary": "{\n  \"name\": \"df_1\",\n  \"rows\": 4,\n  \"fields\": [\n    {\n      \"column\": \"Marca temporal\",\n      \"properties\": {\n        \"dtype\": \"date\",\n        \"min\": \"1970-01-01 00:00:00.000000001\",\n        \"max\": \"2024-11-04 22:30:59\",\n        \"num_unique_values\": 3,\n        \"samples\": [\n          \"45\",\n          \"11/04/2024 22:30:59\",\n          \"1\"\n        ],\n        \"semantic_type\": \"\",\n        \"description\": \"\"\n      }\n    },\n    {\n      \"column\": \"consentimiento\",\n      \"properties\": {\n        \"dtype\": \"string\",\n        \"num_unique_values\": 4,\n        \"samples\": [\n          2,\n          \"43\",\n          \"45\"\n        ],\n        \"semantic_type\": \"\",\n        \"description\": \"\"\n      }\n    },\n    {\n      \"column\": \"Nombre\",\n      \"properties\": {\n        \"dtype\": \"string\",\n        \"num_unique_values\": 4,\n        \"samples\": [\n          44,\n          \"2\",\n          \"45\"\n        ],\n        \"semantic_type\": \"\",\n        \"description\": \"\"\n      }\n    },\n    {\n      \"column\": \"tiempo\",\n      \"properties\": {\n        \"dtype\": \"string\",\n        \"num_unique_values\": 4,\n        \"samples\": [\n          3,\n          \"25\",\n          \"45\"\n        ],\n        \"semantic_type\": \"\",\n        \"description\": \"\"\n      }\n    },\n    {\n      \"column\": \"frecuencia\",\n      \"properties\": {\n        \"dtype\": \"string\",\n        \"num_unique_values\": 4,\n        \"samples\": [\n          5,\n          \"17\",\n          \"45\"\n        ],\n        \"semantic_type\": \"\",\n        \"description\": \"\"\n      }\n    },\n    {\n      \"column\": \"satisfaccion\",\n      \"properties\": {\n        \"dtype\": \"string\",\n        \"num_unique_values\": 4,\n        \"samples\": [\n          4,\n          \"22\",\n          \"45\"\n        ],\n        \"semantic_type\": \"\",\n        \"description\": \"\"\n      }\n    },\n    {\n      \"column\": \"experiencias\",\n      \"properties\": {\n        \"dtype\": \"string\",\n        \"num_unique_values\": 4,\n        \"samples\": [\n          2,\n          \"39\",\n          \"45\"\n        ],\n        \"semantic_type\": \"\",\n        \"description\": \"\"\n      }\n    },\n    {\n      \"column\": \"factores\",\n      \"properties\": {\n        \"dtype\": \"string\",\n        \"num_unique_values\": 4,\n        \"samples\": [\n          6,\n          \"29\",\n          \"45\"\n        ],\n        \"semantic_type\": \"\",\n        \"description\": \"\"\n      }\n    },\n    {\n      \"column\": \"sugerencias\",\n      \"properties\": {\n        \"dtype\": \"string\",\n        \"num_unique_values\": 4,\n        \"samples\": [\n          34,\n          \"5\",\n          \"42\"\n        ],\n        \"semantic_type\": \"\",\n        \"description\": \"\"\n      }\n    }\n  ]\n}"
            }
          },
          "metadata": {},
          "execution_count": 12
        }
      ]
    },
    {
      "cell_type": "code",
      "source": [
        "df_1.duplicated().sum()"
      ],
      "metadata": {
        "id": "jd9nkftR_FV1",
        "colab": {
          "base_uri": "https://localhost:8080/"
        },
        "outputId": "61c3526a-0e98-4bc2-9170-3514ff6aed2a"
      },
      "execution_count": 13,
      "outputs": [
        {
          "output_type": "execute_result",
          "data": {
            "text/plain": [
              "0"
            ]
          },
          "metadata": {},
          "execution_count": 13
        }
      ]
    },
    {
      "cell_type": "code",
      "source": [
        "df_1.isna().sum()"
      ],
      "metadata": {
        "id": "D8zDm2B8_Jrd",
        "colab": {
          "base_uri": "https://localhost:8080/"
        },
        "outputId": "c6b743c2-4124-433d-8990-249b94132a2d"
      },
      "execution_count": 14,
      "outputs": [
        {
          "output_type": "execute_result",
          "data": {
            "text/plain": [
              "Marca temporal    0\n",
              "consentimiento    0\n",
              "Nombre            0\n",
              "tiempo            0\n",
              "frecuencia        0\n",
              "satisfaccion      0\n",
              "experiencias      0\n",
              "factores          0\n",
              "sugerencias       3\n",
              "dtype: int64"
            ]
          },
          "metadata": {},
          "execution_count": 14
        }
      ]
    },
    {
      "cell_type": "code",
      "source": [
        "df_2.shape"
      ],
      "metadata": {
        "id": "F3L6C1-85QIT",
        "colab": {
          "base_uri": "https://localhost:8080/"
        },
        "outputId": "6afd9d31-e769-4408-c4a0-3e179caf165b"
      },
      "execution_count": 15,
      "outputs": [
        {
          "output_type": "execute_result",
          "data": {
            "text/plain": [
              "(24, 6)"
            ]
          },
          "metadata": {},
          "execution_count": 15
        }
      ]
    },
    {
      "cell_type": "code",
      "source": [
        "df_2.info()"
      ],
      "metadata": {
        "id": "X04uE8st5dsU",
        "colab": {
          "base_uri": "https://localhost:8080/"
        },
        "outputId": "86851728-eb57-4f9d-bcfe-3462fc285595"
      },
      "execution_count": 16,
      "outputs": [
        {
          "output_type": "stream",
          "name": "stdout",
          "text": [
            "<class 'pandas.core.frame.DataFrame'>\n",
            "RangeIndex: 24 entries, 0 to 23\n",
            "Data columns (total 6 columns):\n",
            " #   Column          Non-Null Count  Dtype \n",
            "---  ------          --------------  ----- \n",
            " 0   visitas         24 non-null     object\n",
            " 1   horario         24 non-null     object\n",
            " 2   regularidad     24 non-null     object\n",
            " 3   espera          24 non-null     object\n",
            " 4   vivencias       24 non-null     object\n",
            " 5   disponibilidad  24 non-null     object\n",
            "dtypes: object(6)\n",
            "memory usage: 1.2+ KB\n"
          ]
        }
      ]
    },
    {
      "cell_type": "code",
      "source": [
        "df_2.head()"
      ],
      "metadata": {
        "id": "RyShOHHB78u9",
        "colab": {
          "base_uri": "https://localhost:8080/",
          "height": 206
        },
        "outputId": "d7d65633-e38e-4d6b-b917-845a9e8334fa"
      },
      "execution_count": 17,
      "outputs": [
        {
          "output_type": "execute_result",
          "data": {
            "text/plain": [
              "                    visitas          horario     regularidad  \\\n",
              "0  Varias veces a la semana  12:00 a 1:00 Pm  Frecuentemente   \n",
              "1       Una vez a la semana    11:00 a 12:00         A veces   \n",
              "2            Todos los dias  12:00 a 1:00 Pm         Siempre   \n",
              "3  Varias veces a la semana  12:00 a 1:00 Pm  Frecuentemente   \n",
              "4            Todos los dias  12:00 a 1:00 Pm  Frecuentemente   \n",
              "\n",
              "               espera     vivencias disponibilidad  \n",
              "0  Menos de 5 minutos  En ocasiones     Satisfech@  \n",
              "1  Menos de 5 minutos            NO     Satisfech@  \n",
              "2   De 5 a 10 minutos  En ocasiones        Neutral  \n",
              "3   Más de 10 minutos            Si        Neutral  \n",
              "4  Menos de 5 minutos  En ocasiones        Neutral  "
            ],
            "text/html": [
              "\n",
              "  <div id=\"df-61480c7f-ba21-4df0-871b-c969ec64816f\" class=\"colab-df-container\">\n",
              "    <div>\n",
              "<style scoped>\n",
              "    .dataframe tbody tr th:only-of-type {\n",
              "        vertical-align: middle;\n",
              "    }\n",
              "\n",
              "    .dataframe tbody tr th {\n",
              "        vertical-align: top;\n",
              "    }\n",
              "\n",
              "    .dataframe thead th {\n",
              "        text-align: right;\n",
              "    }\n",
              "</style>\n",
              "<table border=\"1\" class=\"dataframe\">\n",
              "  <thead>\n",
              "    <tr style=\"text-align: right;\">\n",
              "      <th></th>\n",
              "      <th>visitas</th>\n",
              "      <th>horario</th>\n",
              "      <th>regularidad</th>\n",
              "      <th>espera</th>\n",
              "      <th>vivencias</th>\n",
              "      <th>disponibilidad</th>\n",
              "    </tr>\n",
              "  </thead>\n",
              "  <tbody>\n",
              "    <tr>\n",
              "      <th>0</th>\n",
              "      <td>Varias veces a la semana</td>\n",
              "      <td>12:00 a 1:00 Pm</td>\n",
              "      <td>Frecuentemente</td>\n",
              "      <td>Menos de 5 minutos</td>\n",
              "      <td>En ocasiones</td>\n",
              "      <td>Satisfech@</td>\n",
              "    </tr>\n",
              "    <tr>\n",
              "      <th>1</th>\n",
              "      <td>Una vez a la semana</td>\n",
              "      <td>11:00 a 12:00</td>\n",
              "      <td>A veces</td>\n",
              "      <td>Menos de 5 minutos</td>\n",
              "      <td>NO</td>\n",
              "      <td>Satisfech@</td>\n",
              "    </tr>\n",
              "    <tr>\n",
              "      <th>2</th>\n",
              "      <td>Todos los dias</td>\n",
              "      <td>12:00 a 1:00 Pm</td>\n",
              "      <td>Siempre</td>\n",
              "      <td>De 5 a 10 minutos</td>\n",
              "      <td>En ocasiones</td>\n",
              "      <td>Neutral</td>\n",
              "    </tr>\n",
              "    <tr>\n",
              "      <th>3</th>\n",
              "      <td>Varias veces a la semana</td>\n",
              "      <td>12:00 a 1:00 Pm</td>\n",
              "      <td>Frecuentemente</td>\n",
              "      <td>Más de 10 minutos</td>\n",
              "      <td>Si</td>\n",
              "      <td>Neutral</td>\n",
              "    </tr>\n",
              "    <tr>\n",
              "      <th>4</th>\n",
              "      <td>Todos los dias</td>\n",
              "      <td>12:00 a 1:00 Pm</td>\n",
              "      <td>Frecuentemente</td>\n",
              "      <td>Menos de 5 minutos</td>\n",
              "      <td>En ocasiones</td>\n",
              "      <td>Neutral</td>\n",
              "    </tr>\n",
              "  </tbody>\n",
              "</table>\n",
              "</div>\n",
              "    <div class=\"colab-df-buttons\">\n",
              "\n",
              "  <div class=\"colab-df-container\">\n",
              "    <button class=\"colab-df-convert\" onclick=\"convertToInteractive('df-61480c7f-ba21-4df0-871b-c969ec64816f')\"\n",
              "            title=\"Convert this dataframe to an interactive table.\"\n",
              "            style=\"display:none;\">\n",
              "\n",
              "  <svg xmlns=\"http://www.w3.org/2000/svg\" height=\"24px\" viewBox=\"0 -960 960 960\">\n",
              "    <path d=\"M120-120v-720h720v720H120Zm60-500h600v-160H180v160Zm220 220h160v-160H400v160Zm0 220h160v-160H400v160ZM180-400h160v-160H180v160Zm440 0h160v-160H620v160ZM180-180h160v-160H180v160Zm440 0h160v-160H620v160Z\"/>\n",
              "  </svg>\n",
              "    </button>\n",
              "\n",
              "  <style>\n",
              "    .colab-df-container {\n",
              "      display:flex;\n",
              "      gap: 12px;\n",
              "    }\n",
              "\n",
              "    .colab-df-convert {\n",
              "      background-color: #E8F0FE;\n",
              "      border: none;\n",
              "      border-radius: 50%;\n",
              "      cursor: pointer;\n",
              "      display: none;\n",
              "      fill: #1967D2;\n",
              "      height: 32px;\n",
              "      padding: 0 0 0 0;\n",
              "      width: 32px;\n",
              "    }\n",
              "\n",
              "    .colab-df-convert:hover {\n",
              "      background-color: #E2EBFA;\n",
              "      box-shadow: 0px 1px 2px rgba(60, 64, 67, 0.3), 0px 1px 3px 1px rgba(60, 64, 67, 0.15);\n",
              "      fill: #174EA6;\n",
              "    }\n",
              "\n",
              "    .colab-df-buttons div {\n",
              "      margin-bottom: 4px;\n",
              "    }\n",
              "\n",
              "    [theme=dark] .colab-df-convert {\n",
              "      background-color: #3B4455;\n",
              "      fill: #D2E3FC;\n",
              "    }\n",
              "\n",
              "    [theme=dark] .colab-df-convert:hover {\n",
              "      background-color: #434B5C;\n",
              "      box-shadow: 0px 1px 3px 1px rgba(0, 0, 0, 0.15);\n",
              "      filter: drop-shadow(0px 1px 2px rgba(0, 0, 0, 0.3));\n",
              "      fill: #FFFFFF;\n",
              "    }\n",
              "  </style>\n",
              "\n",
              "    <script>\n",
              "      const buttonEl =\n",
              "        document.querySelector('#df-61480c7f-ba21-4df0-871b-c969ec64816f button.colab-df-convert');\n",
              "      buttonEl.style.display =\n",
              "        google.colab.kernel.accessAllowed ? 'block' : 'none';\n",
              "\n",
              "      async function convertToInteractive(key) {\n",
              "        const element = document.querySelector('#df-61480c7f-ba21-4df0-871b-c969ec64816f');\n",
              "        const dataTable =\n",
              "          await google.colab.kernel.invokeFunction('convertToInteractive',\n",
              "                                                    [key], {});\n",
              "        if (!dataTable) return;\n",
              "\n",
              "        const docLinkHtml = 'Like what you see? Visit the ' +\n",
              "          '<a target=\"_blank\" href=https://colab.research.google.com/notebooks/data_table.ipynb>data table notebook</a>'\n",
              "          + ' to learn more about interactive tables.';\n",
              "        element.innerHTML = '';\n",
              "        dataTable['output_type'] = 'display_data';\n",
              "        await google.colab.output.renderOutput(dataTable, element);\n",
              "        const docLink = document.createElement('div');\n",
              "        docLink.innerHTML = docLinkHtml;\n",
              "        element.appendChild(docLink);\n",
              "      }\n",
              "    </script>\n",
              "  </div>\n",
              "\n",
              "\n",
              "<div id=\"df-412aa72e-a416-42c8-bb60-72b3b5790c3b\">\n",
              "  <button class=\"colab-df-quickchart\" onclick=\"quickchart('df-412aa72e-a416-42c8-bb60-72b3b5790c3b')\"\n",
              "            title=\"Suggest charts\"\n",
              "            style=\"display:none;\">\n",
              "\n",
              "<svg xmlns=\"http://www.w3.org/2000/svg\" height=\"24px\"viewBox=\"0 0 24 24\"\n",
              "     width=\"24px\">\n",
              "    <g>\n",
              "        <path d=\"M19 3H5c-1.1 0-2 .9-2 2v14c0 1.1.9 2 2 2h14c1.1 0 2-.9 2-2V5c0-1.1-.9-2-2-2zM9 17H7v-7h2v7zm4 0h-2V7h2v10zm4 0h-2v-4h2v4z\"/>\n",
              "    </g>\n",
              "</svg>\n",
              "  </button>\n",
              "\n",
              "<style>\n",
              "  .colab-df-quickchart {\n",
              "      --bg-color: #E8F0FE;\n",
              "      --fill-color: #1967D2;\n",
              "      --hover-bg-color: #E2EBFA;\n",
              "      --hover-fill-color: #174EA6;\n",
              "      --disabled-fill-color: #AAA;\n",
              "      --disabled-bg-color: #DDD;\n",
              "  }\n",
              "\n",
              "  [theme=dark] .colab-df-quickchart {\n",
              "      --bg-color: #3B4455;\n",
              "      --fill-color: #D2E3FC;\n",
              "      --hover-bg-color: #434B5C;\n",
              "      --hover-fill-color: #FFFFFF;\n",
              "      --disabled-bg-color: #3B4455;\n",
              "      --disabled-fill-color: #666;\n",
              "  }\n",
              "\n",
              "  .colab-df-quickchart {\n",
              "    background-color: var(--bg-color);\n",
              "    border: none;\n",
              "    border-radius: 50%;\n",
              "    cursor: pointer;\n",
              "    display: none;\n",
              "    fill: var(--fill-color);\n",
              "    height: 32px;\n",
              "    padding: 0;\n",
              "    width: 32px;\n",
              "  }\n",
              "\n",
              "  .colab-df-quickchart:hover {\n",
              "    background-color: var(--hover-bg-color);\n",
              "    box-shadow: 0 1px 2px rgba(60, 64, 67, 0.3), 0 1px 3px 1px rgba(60, 64, 67, 0.15);\n",
              "    fill: var(--button-hover-fill-color);\n",
              "  }\n",
              "\n",
              "  .colab-df-quickchart-complete:disabled,\n",
              "  .colab-df-quickchart-complete:disabled:hover {\n",
              "    background-color: var(--disabled-bg-color);\n",
              "    fill: var(--disabled-fill-color);\n",
              "    box-shadow: none;\n",
              "  }\n",
              "\n",
              "  .colab-df-spinner {\n",
              "    border: 2px solid var(--fill-color);\n",
              "    border-color: transparent;\n",
              "    border-bottom-color: var(--fill-color);\n",
              "    animation:\n",
              "      spin 1s steps(1) infinite;\n",
              "  }\n",
              "\n",
              "  @keyframes spin {\n",
              "    0% {\n",
              "      border-color: transparent;\n",
              "      border-bottom-color: var(--fill-color);\n",
              "      border-left-color: var(--fill-color);\n",
              "    }\n",
              "    20% {\n",
              "      border-color: transparent;\n",
              "      border-left-color: var(--fill-color);\n",
              "      border-top-color: var(--fill-color);\n",
              "    }\n",
              "    30% {\n",
              "      border-color: transparent;\n",
              "      border-left-color: var(--fill-color);\n",
              "      border-top-color: var(--fill-color);\n",
              "      border-right-color: var(--fill-color);\n",
              "    }\n",
              "    40% {\n",
              "      border-color: transparent;\n",
              "      border-right-color: var(--fill-color);\n",
              "      border-top-color: var(--fill-color);\n",
              "    }\n",
              "    60% {\n",
              "      border-color: transparent;\n",
              "      border-right-color: var(--fill-color);\n",
              "    }\n",
              "    80% {\n",
              "      border-color: transparent;\n",
              "      border-right-color: var(--fill-color);\n",
              "      border-bottom-color: var(--fill-color);\n",
              "    }\n",
              "    90% {\n",
              "      border-color: transparent;\n",
              "      border-bottom-color: var(--fill-color);\n",
              "    }\n",
              "  }\n",
              "</style>\n",
              "\n",
              "  <script>\n",
              "    async function quickchart(key) {\n",
              "      const quickchartButtonEl =\n",
              "        document.querySelector('#' + key + ' button');\n",
              "      quickchartButtonEl.disabled = true;  // To prevent multiple clicks.\n",
              "      quickchartButtonEl.classList.add('colab-df-spinner');\n",
              "      try {\n",
              "        const charts = await google.colab.kernel.invokeFunction(\n",
              "            'suggestCharts', [key], {});\n",
              "      } catch (error) {\n",
              "        console.error('Error during call to suggestCharts:', error);\n",
              "      }\n",
              "      quickchartButtonEl.classList.remove('colab-df-spinner');\n",
              "      quickchartButtonEl.classList.add('colab-df-quickchart-complete');\n",
              "    }\n",
              "    (() => {\n",
              "      let quickchartButtonEl =\n",
              "        document.querySelector('#df-412aa72e-a416-42c8-bb60-72b3b5790c3b button');\n",
              "      quickchartButtonEl.style.display =\n",
              "        google.colab.kernel.accessAllowed ? 'block' : 'none';\n",
              "    })();\n",
              "  </script>\n",
              "</div>\n",
              "    </div>\n",
              "  </div>\n"
            ],
            "application/vnd.google.colaboratory.intrinsic+json": {
              "type": "dataframe",
              "variable_name": "df_2",
              "summary": "{\n  \"name\": \"df_2\",\n  \"rows\": 24,\n  \"fields\": [\n    {\n      \"column\": \"visitas\",\n      \"properties\": {\n        \"dtype\": \"category\",\n        \"num_unique_values\": 4,\n        \"samples\": [\n          \"Una vez a la semana\",\n          \"Rara vez\",\n          \"Varias veces a la semana\"\n        ],\n        \"semantic_type\": \"\",\n        \"description\": \"\"\n      }\n    },\n    {\n      \"column\": \"horario\",\n      \"properties\": {\n        \"dtype\": \"category\",\n        \"num_unique_values\": 4,\n        \"samples\": [\n          \"11:00 a 12:00\",\n          \"Despu\\u00e9s de las 2:00 Pm\",\n          \"12:00 a 1:00 Pm\"\n        ],\n        \"semantic_type\": \"\",\n        \"description\": \"\"\n      }\n    },\n    {\n      \"column\": \"regularidad\",\n      \"properties\": {\n        \"dtype\": \"category\",\n        \"num_unique_values\": 4,\n        \"samples\": [\n          \"A veces\",\n          \"Raramente\",\n          \"Frecuentemente\"\n        ],\n        \"semantic_type\": \"\",\n        \"description\": \"\"\n      }\n    },\n    {\n      \"column\": \"espera\",\n      \"properties\": {\n        \"dtype\": \"category\",\n        \"num_unique_values\": 3,\n        \"samples\": [\n          \"Menos de 5 minutos\",\n          \"De 5 a 10 minutos\",\n          \"M\\u00e1s de 10 minutos\"\n        ],\n        \"semantic_type\": \"\",\n        \"description\": \"\"\n      }\n    },\n    {\n      \"column\": \"vivencias\",\n      \"properties\": {\n        \"dtype\": \"category\",\n        \"num_unique_values\": 3,\n        \"samples\": [\n          \"En ocasiones\",\n          \"NO\",\n          \"Si\"\n        ],\n        \"semantic_type\": \"\",\n        \"description\": \"\"\n      }\n    },\n    {\n      \"column\": \"disponibilidad\",\n      \"properties\": {\n        \"dtype\": \"category\",\n        \"num_unique_values\": 4,\n        \"samples\": [\n          \"Neutral\",\n          \"Muy insatisfech@\",\n          \"Satisfech@\"\n        ],\n        \"semantic_type\": \"\",\n        \"description\": \"\"\n      }\n    }\n  ]\n}"
            }
          },
          "metadata": {},
          "execution_count": 17
        }
      ]
    },
    {
      "cell_type": "code",
      "source": [
        "df_2.tail()"
      ],
      "metadata": {
        "id": "9uE3I-Wp8B_5",
        "colab": {
          "base_uri": "https://localhost:8080/",
          "height": 206
        },
        "outputId": "b199a5be-afe1-4ba6-87a3-18cd91944f11"
      },
      "execution_count": 18,
      "outputs": [
        {
          "output_type": "execute_result",
          "data": {
            "text/plain": [
              "                     visitas                 horario     regularidad  \\\n",
              "19            Todos los dias          1:00 a 2:00 Pm         A veces   \n",
              "20            Todos los dias          1:00 a 2:00 Pm  Frecuentemente   \n",
              "21  Varias veces a la semana         12:00 a 1:00 Pm         Siempre   \n",
              "22  Varias veces a la semana         12:00 a 1:00 Pm  Frecuentemente   \n",
              "23                  Rara vez  Después de las 2:00 Pm       Raramente   \n",
              "\n",
              "                espera     vivencias    disponibilidad  \n",
              "19  Menos de 5 minutos  En ocasiones           Neutral  \n",
              "20  Menos de 5 minutos            NO        Satisfech@  \n",
              "21  Menos de 5 minutos  En ocasiones           Neutral  \n",
              "22   De 5 a 10 minutos            NO           Neutral  \n",
              "23   Más de 10 minutos            NO  Muy insatisfech@  "
            ],
            "text/html": [
              "\n",
              "  <div id=\"df-c28f7575-9cb1-4f73-a6ad-5d0f4dda4da1\" class=\"colab-df-container\">\n",
              "    <div>\n",
              "<style scoped>\n",
              "    .dataframe tbody tr th:only-of-type {\n",
              "        vertical-align: middle;\n",
              "    }\n",
              "\n",
              "    .dataframe tbody tr th {\n",
              "        vertical-align: top;\n",
              "    }\n",
              "\n",
              "    .dataframe thead th {\n",
              "        text-align: right;\n",
              "    }\n",
              "</style>\n",
              "<table border=\"1\" class=\"dataframe\">\n",
              "  <thead>\n",
              "    <tr style=\"text-align: right;\">\n",
              "      <th></th>\n",
              "      <th>visitas</th>\n",
              "      <th>horario</th>\n",
              "      <th>regularidad</th>\n",
              "      <th>espera</th>\n",
              "      <th>vivencias</th>\n",
              "      <th>disponibilidad</th>\n",
              "    </tr>\n",
              "  </thead>\n",
              "  <tbody>\n",
              "    <tr>\n",
              "      <th>19</th>\n",
              "      <td>Todos los dias</td>\n",
              "      <td>1:00 a 2:00 Pm</td>\n",
              "      <td>A veces</td>\n",
              "      <td>Menos de 5 minutos</td>\n",
              "      <td>En ocasiones</td>\n",
              "      <td>Neutral</td>\n",
              "    </tr>\n",
              "    <tr>\n",
              "      <th>20</th>\n",
              "      <td>Todos los dias</td>\n",
              "      <td>1:00 a 2:00 Pm</td>\n",
              "      <td>Frecuentemente</td>\n",
              "      <td>Menos de 5 minutos</td>\n",
              "      <td>NO</td>\n",
              "      <td>Satisfech@</td>\n",
              "    </tr>\n",
              "    <tr>\n",
              "      <th>21</th>\n",
              "      <td>Varias veces a la semana</td>\n",
              "      <td>12:00 a 1:00 Pm</td>\n",
              "      <td>Siempre</td>\n",
              "      <td>Menos de 5 minutos</td>\n",
              "      <td>En ocasiones</td>\n",
              "      <td>Neutral</td>\n",
              "    </tr>\n",
              "    <tr>\n",
              "      <th>22</th>\n",
              "      <td>Varias veces a la semana</td>\n",
              "      <td>12:00 a 1:00 Pm</td>\n",
              "      <td>Frecuentemente</td>\n",
              "      <td>De 5 a 10 minutos</td>\n",
              "      <td>NO</td>\n",
              "      <td>Neutral</td>\n",
              "    </tr>\n",
              "    <tr>\n",
              "      <th>23</th>\n",
              "      <td>Rara vez</td>\n",
              "      <td>Después de las 2:00 Pm</td>\n",
              "      <td>Raramente</td>\n",
              "      <td>Más de 10 minutos</td>\n",
              "      <td>NO</td>\n",
              "      <td>Muy insatisfech@</td>\n",
              "    </tr>\n",
              "  </tbody>\n",
              "</table>\n",
              "</div>\n",
              "    <div class=\"colab-df-buttons\">\n",
              "\n",
              "  <div class=\"colab-df-container\">\n",
              "    <button class=\"colab-df-convert\" onclick=\"convertToInteractive('df-c28f7575-9cb1-4f73-a6ad-5d0f4dda4da1')\"\n",
              "            title=\"Convert this dataframe to an interactive table.\"\n",
              "            style=\"display:none;\">\n",
              "\n",
              "  <svg xmlns=\"http://www.w3.org/2000/svg\" height=\"24px\" viewBox=\"0 -960 960 960\">\n",
              "    <path d=\"M120-120v-720h720v720H120Zm60-500h600v-160H180v160Zm220 220h160v-160H400v160Zm0 220h160v-160H400v160ZM180-400h160v-160H180v160Zm440 0h160v-160H620v160ZM180-180h160v-160H180v160Zm440 0h160v-160H620v160Z\"/>\n",
              "  </svg>\n",
              "    </button>\n",
              "\n",
              "  <style>\n",
              "    .colab-df-container {\n",
              "      display:flex;\n",
              "      gap: 12px;\n",
              "    }\n",
              "\n",
              "    .colab-df-convert {\n",
              "      background-color: #E8F0FE;\n",
              "      border: none;\n",
              "      border-radius: 50%;\n",
              "      cursor: pointer;\n",
              "      display: none;\n",
              "      fill: #1967D2;\n",
              "      height: 32px;\n",
              "      padding: 0 0 0 0;\n",
              "      width: 32px;\n",
              "    }\n",
              "\n",
              "    .colab-df-convert:hover {\n",
              "      background-color: #E2EBFA;\n",
              "      box-shadow: 0px 1px 2px rgba(60, 64, 67, 0.3), 0px 1px 3px 1px rgba(60, 64, 67, 0.15);\n",
              "      fill: #174EA6;\n",
              "    }\n",
              "\n",
              "    .colab-df-buttons div {\n",
              "      margin-bottom: 4px;\n",
              "    }\n",
              "\n",
              "    [theme=dark] .colab-df-convert {\n",
              "      background-color: #3B4455;\n",
              "      fill: #D2E3FC;\n",
              "    }\n",
              "\n",
              "    [theme=dark] .colab-df-convert:hover {\n",
              "      background-color: #434B5C;\n",
              "      box-shadow: 0px 1px 3px 1px rgba(0, 0, 0, 0.15);\n",
              "      filter: drop-shadow(0px 1px 2px rgba(0, 0, 0, 0.3));\n",
              "      fill: #FFFFFF;\n",
              "    }\n",
              "  </style>\n",
              "\n",
              "    <script>\n",
              "      const buttonEl =\n",
              "        document.querySelector('#df-c28f7575-9cb1-4f73-a6ad-5d0f4dda4da1 button.colab-df-convert');\n",
              "      buttonEl.style.display =\n",
              "        google.colab.kernel.accessAllowed ? 'block' : 'none';\n",
              "\n",
              "      async function convertToInteractive(key) {\n",
              "        const element = document.querySelector('#df-c28f7575-9cb1-4f73-a6ad-5d0f4dda4da1');\n",
              "        const dataTable =\n",
              "          await google.colab.kernel.invokeFunction('convertToInteractive',\n",
              "                                                    [key], {});\n",
              "        if (!dataTable) return;\n",
              "\n",
              "        const docLinkHtml = 'Like what you see? Visit the ' +\n",
              "          '<a target=\"_blank\" href=https://colab.research.google.com/notebooks/data_table.ipynb>data table notebook</a>'\n",
              "          + ' to learn more about interactive tables.';\n",
              "        element.innerHTML = '';\n",
              "        dataTable['output_type'] = 'display_data';\n",
              "        await google.colab.output.renderOutput(dataTable, element);\n",
              "        const docLink = document.createElement('div');\n",
              "        docLink.innerHTML = docLinkHtml;\n",
              "        element.appendChild(docLink);\n",
              "      }\n",
              "    </script>\n",
              "  </div>\n",
              "\n",
              "\n",
              "<div id=\"df-2cf37c6e-89b6-409a-866d-aa45aed927ca\">\n",
              "  <button class=\"colab-df-quickchart\" onclick=\"quickchart('df-2cf37c6e-89b6-409a-866d-aa45aed927ca')\"\n",
              "            title=\"Suggest charts\"\n",
              "            style=\"display:none;\">\n",
              "\n",
              "<svg xmlns=\"http://www.w3.org/2000/svg\" height=\"24px\"viewBox=\"0 0 24 24\"\n",
              "     width=\"24px\">\n",
              "    <g>\n",
              "        <path d=\"M19 3H5c-1.1 0-2 .9-2 2v14c0 1.1.9 2 2 2h14c1.1 0 2-.9 2-2V5c0-1.1-.9-2-2-2zM9 17H7v-7h2v7zm4 0h-2V7h2v10zm4 0h-2v-4h2v4z\"/>\n",
              "    </g>\n",
              "</svg>\n",
              "  </button>\n",
              "\n",
              "<style>\n",
              "  .colab-df-quickchart {\n",
              "      --bg-color: #E8F0FE;\n",
              "      --fill-color: #1967D2;\n",
              "      --hover-bg-color: #E2EBFA;\n",
              "      --hover-fill-color: #174EA6;\n",
              "      --disabled-fill-color: #AAA;\n",
              "      --disabled-bg-color: #DDD;\n",
              "  }\n",
              "\n",
              "  [theme=dark] .colab-df-quickchart {\n",
              "      --bg-color: #3B4455;\n",
              "      --fill-color: #D2E3FC;\n",
              "      --hover-bg-color: #434B5C;\n",
              "      --hover-fill-color: #FFFFFF;\n",
              "      --disabled-bg-color: #3B4455;\n",
              "      --disabled-fill-color: #666;\n",
              "  }\n",
              "\n",
              "  .colab-df-quickchart {\n",
              "    background-color: var(--bg-color);\n",
              "    border: none;\n",
              "    border-radius: 50%;\n",
              "    cursor: pointer;\n",
              "    display: none;\n",
              "    fill: var(--fill-color);\n",
              "    height: 32px;\n",
              "    padding: 0;\n",
              "    width: 32px;\n",
              "  }\n",
              "\n",
              "  .colab-df-quickchart:hover {\n",
              "    background-color: var(--hover-bg-color);\n",
              "    box-shadow: 0 1px 2px rgba(60, 64, 67, 0.3), 0 1px 3px 1px rgba(60, 64, 67, 0.15);\n",
              "    fill: var(--button-hover-fill-color);\n",
              "  }\n",
              "\n",
              "  .colab-df-quickchart-complete:disabled,\n",
              "  .colab-df-quickchart-complete:disabled:hover {\n",
              "    background-color: var(--disabled-bg-color);\n",
              "    fill: var(--disabled-fill-color);\n",
              "    box-shadow: none;\n",
              "  }\n",
              "\n",
              "  .colab-df-spinner {\n",
              "    border: 2px solid var(--fill-color);\n",
              "    border-color: transparent;\n",
              "    border-bottom-color: var(--fill-color);\n",
              "    animation:\n",
              "      spin 1s steps(1) infinite;\n",
              "  }\n",
              "\n",
              "  @keyframes spin {\n",
              "    0% {\n",
              "      border-color: transparent;\n",
              "      border-bottom-color: var(--fill-color);\n",
              "      border-left-color: var(--fill-color);\n",
              "    }\n",
              "    20% {\n",
              "      border-color: transparent;\n",
              "      border-left-color: var(--fill-color);\n",
              "      border-top-color: var(--fill-color);\n",
              "    }\n",
              "    30% {\n",
              "      border-color: transparent;\n",
              "      border-left-color: var(--fill-color);\n",
              "      border-top-color: var(--fill-color);\n",
              "      border-right-color: var(--fill-color);\n",
              "    }\n",
              "    40% {\n",
              "      border-color: transparent;\n",
              "      border-right-color: var(--fill-color);\n",
              "      border-top-color: var(--fill-color);\n",
              "    }\n",
              "    60% {\n",
              "      border-color: transparent;\n",
              "      border-right-color: var(--fill-color);\n",
              "    }\n",
              "    80% {\n",
              "      border-color: transparent;\n",
              "      border-right-color: var(--fill-color);\n",
              "      border-bottom-color: var(--fill-color);\n",
              "    }\n",
              "    90% {\n",
              "      border-color: transparent;\n",
              "      border-bottom-color: var(--fill-color);\n",
              "    }\n",
              "  }\n",
              "</style>\n",
              "\n",
              "  <script>\n",
              "    async function quickchart(key) {\n",
              "      const quickchartButtonEl =\n",
              "        document.querySelector('#' + key + ' button');\n",
              "      quickchartButtonEl.disabled = true;  // To prevent multiple clicks.\n",
              "      quickchartButtonEl.classList.add('colab-df-spinner');\n",
              "      try {\n",
              "        const charts = await google.colab.kernel.invokeFunction(\n",
              "            'suggestCharts', [key], {});\n",
              "      } catch (error) {\n",
              "        console.error('Error during call to suggestCharts:', error);\n",
              "      }\n",
              "      quickchartButtonEl.classList.remove('colab-df-spinner');\n",
              "      quickchartButtonEl.classList.add('colab-df-quickchart-complete');\n",
              "    }\n",
              "    (() => {\n",
              "      let quickchartButtonEl =\n",
              "        document.querySelector('#df-2cf37c6e-89b6-409a-866d-aa45aed927ca button');\n",
              "      quickchartButtonEl.style.display =\n",
              "        google.colab.kernel.accessAllowed ? 'block' : 'none';\n",
              "    })();\n",
              "  </script>\n",
              "</div>\n",
              "    </div>\n",
              "  </div>\n"
            ],
            "application/vnd.google.colaboratory.intrinsic+json": {
              "type": "dataframe",
              "summary": "{\n  \"name\": \"df_2\",\n  \"rows\": 5,\n  \"fields\": [\n    {\n      \"column\": \"visitas\",\n      \"properties\": {\n        \"dtype\": \"string\",\n        \"num_unique_values\": 3,\n        \"samples\": [\n          \"Todos los dias\",\n          \"Varias veces a la semana\",\n          \"Rara vez\"\n        ],\n        \"semantic_type\": \"\",\n        \"description\": \"\"\n      }\n    },\n    {\n      \"column\": \"horario\",\n      \"properties\": {\n        \"dtype\": \"string\",\n        \"num_unique_values\": 3,\n        \"samples\": [\n          \"1:00 a 2:00 Pm\",\n          \"12:00 a 1:00 Pm\",\n          \"Despu\\u00e9s de las 2:00 Pm\"\n        ],\n        \"semantic_type\": \"\",\n        \"description\": \"\"\n      }\n    },\n    {\n      \"column\": \"regularidad\",\n      \"properties\": {\n        \"dtype\": \"string\",\n        \"num_unique_values\": 4,\n        \"samples\": [\n          \"Frecuentemente\",\n          \"Raramente\",\n          \"A veces\"\n        ],\n        \"semantic_type\": \"\",\n        \"description\": \"\"\n      }\n    },\n    {\n      \"column\": \"espera\",\n      \"properties\": {\n        \"dtype\": \"string\",\n        \"num_unique_values\": 3,\n        \"samples\": [\n          \"Menos de 5 minutos\",\n          \"De 5 a 10 minutos\",\n          \"M\\u00e1s de 10 minutos\"\n        ],\n        \"semantic_type\": \"\",\n        \"description\": \"\"\n      }\n    },\n    {\n      \"column\": \"vivencias\",\n      \"properties\": {\n        \"dtype\": \"category\",\n        \"num_unique_values\": 2,\n        \"samples\": [\n          \"NO\",\n          \"En ocasiones\"\n        ],\n        \"semantic_type\": \"\",\n        \"description\": \"\"\n      }\n    },\n    {\n      \"column\": \"disponibilidad\",\n      \"properties\": {\n        \"dtype\": \"string\",\n        \"num_unique_values\": 3,\n        \"samples\": [\n          \"Neutral\",\n          \"Satisfech@\"\n        ],\n        \"semantic_type\": \"\",\n        \"description\": \"\"\n      }\n    }\n  ]\n}"
            }
          },
          "metadata": {},
          "execution_count": 18
        }
      ]
    },
    {
      "cell_type": "code",
      "source": [
        "df_2.describe()"
      ],
      "metadata": {
        "id": "nLtOcy7s8Fv6",
        "colab": {
          "base_uri": "https://localhost:8080/",
          "height": 175
        },
        "outputId": "8d21aef4-8d1b-459d-e214-49d6773d7de6"
      },
      "execution_count": 19,
      "outputs": [
        {
          "output_type": "execute_result",
          "data": {
            "text/plain": [
              "                         visitas          horario     regularidad  \\\n",
              "count                         24               24              24   \n",
              "unique                         4                4               4   \n",
              "top     Varias veces a la semana  12:00 a 1:00 Pm  Frecuentemente   \n",
              "freq                          10               18              14   \n",
              "\n",
              "                    espera     vivencias disponibilidad  \n",
              "count                   24            24             24  \n",
              "unique                   3             3              4  \n",
              "top     Menos de 5 minutos  En ocasiones        Neutral  \n",
              "freq                    12            17             14  "
            ],
            "text/html": [
              "\n",
              "  <div id=\"df-0a752178-d304-4226-a860-81a125b47a99\" class=\"colab-df-container\">\n",
              "    <div>\n",
              "<style scoped>\n",
              "    .dataframe tbody tr th:only-of-type {\n",
              "        vertical-align: middle;\n",
              "    }\n",
              "\n",
              "    .dataframe tbody tr th {\n",
              "        vertical-align: top;\n",
              "    }\n",
              "\n",
              "    .dataframe thead th {\n",
              "        text-align: right;\n",
              "    }\n",
              "</style>\n",
              "<table border=\"1\" class=\"dataframe\">\n",
              "  <thead>\n",
              "    <tr style=\"text-align: right;\">\n",
              "      <th></th>\n",
              "      <th>visitas</th>\n",
              "      <th>horario</th>\n",
              "      <th>regularidad</th>\n",
              "      <th>espera</th>\n",
              "      <th>vivencias</th>\n",
              "      <th>disponibilidad</th>\n",
              "    </tr>\n",
              "  </thead>\n",
              "  <tbody>\n",
              "    <tr>\n",
              "      <th>count</th>\n",
              "      <td>24</td>\n",
              "      <td>24</td>\n",
              "      <td>24</td>\n",
              "      <td>24</td>\n",
              "      <td>24</td>\n",
              "      <td>24</td>\n",
              "    </tr>\n",
              "    <tr>\n",
              "      <th>unique</th>\n",
              "      <td>4</td>\n",
              "      <td>4</td>\n",
              "      <td>4</td>\n",
              "      <td>3</td>\n",
              "      <td>3</td>\n",
              "      <td>4</td>\n",
              "    </tr>\n",
              "    <tr>\n",
              "      <th>top</th>\n",
              "      <td>Varias veces a la semana</td>\n",
              "      <td>12:00 a 1:00 Pm</td>\n",
              "      <td>Frecuentemente</td>\n",
              "      <td>Menos de 5 minutos</td>\n",
              "      <td>En ocasiones</td>\n",
              "      <td>Neutral</td>\n",
              "    </tr>\n",
              "    <tr>\n",
              "      <th>freq</th>\n",
              "      <td>10</td>\n",
              "      <td>18</td>\n",
              "      <td>14</td>\n",
              "      <td>12</td>\n",
              "      <td>17</td>\n",
              "      <td>14</td>\n",
              "    </tr>\n",
              "  </tbody>\n",
              "</table>\n",
              "</div>\n",
              "    <div class=\"colab-df-buttons\">\n",
              "\n",
              "  <div class=\"colab-df-container\">\n",
              "    <button class=\"colab-df-convert\" onclick=\"convertToInteractive('df-0a752178-d304-4226-a860-81a125b47a99')\"\n",
              "            title=\"Convert this dataframe to an interactive table.\"\n",
              "            style=\"display:none;\">\n",
              "\n",
              "  <svg xmlns=\"http://www.w3.org/2000/svg\" height=\"24px\" viewBox=\"0 -960 960 960\">\n",
              "    <path d=\"M120-120v-720h720v720H120Zm60-500h600v-160H180v160Zm220 220h160v-160H400v160Zm0 220h160v-160H400v160ZM180-400h160v-160H180v160Zm440 0h160v-160H620v160ZM180-180h160v-160H180v160Zm440 0h160v-160H620v160Z\"/>\n",
              "  </svg>\n",
              "    </button>\n",
              "\n",
              "  <style>\n",
              "    .colab-df-container {\n",
              "      display:flex;\n",
              "      gap: 12px;\n",
              "    }\n",
              "\n",
              "    .colab-df-convert {\n",
              "      background-color: #E8F0FE;\n",
              "      border: none;\n",
              "      border-radius: 50%;\n",
              "      cursor: pointer;\n",
              "      display: none;\n",
              "      fill: #1967D2;\n",
              "      height: 32px;\n",
              "      padding: 0 0 0 0;\n",
              "      width: 32px;\n",
              "    }\n",
              "\n",
              "    .colab-df-convert:hover {\n",
              "      background-color: #E2EBFA;\n",
              "      box-shadow: 0px 1px 2px rgba(60, 64, 67, 0.3), 0px 1px 3px 1px rgba(60, 64, 67, 0.15);\n",
              "      fill: #174EA6;\n",
              "    }\n",
              "\n",
              "    .colab-df-buttons div {\n",
              "      margin-bottom: 4px;\n",
              "    }\n",
              "\n",
              "    [theme=dark] .colab-df-convert {\n",
              "      background-color: #3B4455;\n",
              "      fill: #D2E3FC;\n",
              "    }\n",
              "\n",
              "    [theme=dark] .colab-df-convert:hover {\n",
              "      background-color: #434B5C;\n",
              "      box-shadow: 0px 1px 3px 1px rgba(0, 0, 0, 0.15);\n",
              "      filter: drop-shadow(0px 1px 2px rgba(0, 0, 0, 0.3));\n",
              "      fill: #FFFFFF;\n",
              "    }\n",
              "  </style>\n",
              "\n",
              "    <script>\n",
              "      const buttonEl =\n",
              "        document.querySelector('#df-0a752178-d304-4226-a860-81a125b47a99 button.colab-df-convert');\n",
              "      buttonEl.style.display =\n",
              "        google.colab.kernel.accessAllowed ? 'block' : 'none';\n",
              "\n",
              "      async function convertToInteractive(key) {\n",
              "        const element = document.querySelector('#df-0a752178-d304-4226-a860-81a125b47a99');\n",
              "        const dataTable =\n",
              "          await google.colab.kernel.invokeFunction('convertToInteractive',\n",
              "                                                    [key], {});\n",
              "        if (!dataTable) return;\n",
              "\n",
              "        const docLinkHtml = 'Like what you see? Visit the ' +\n",
              "          '<a target=\"_blank\" href=https://colab.research.google.com/notebooks/data_table.ipynb>data table notebook</a>'\n",
              "          + ' to learn more about interactive tables.';\n",
              "        element.innerHTML = '';\n",
              "        dataTable['output_type'] = 'display_data';\n",
              "        await google.colab.output.renderOutput(dataTable, element);\n",
              "        const docLink = document.createElement('div');\n",
              "        docLink.innerHTML = docLinkHtml;\n",
              "        element.appendChild(docLink);\n",
              "      }\n",
              "    </script>\n",
              "  </div>\n",
              "\n",
              "\n",
              "<div id=\"df-19916f3b-5746-4f9e-a71e-a0dc7dce3db2\">\n",
              "  <button class=\"colab-df-quickchart\" onclick=\"quickchart('df-19916f3b-5746-4f9e-a71e-a0dc7dce3db2')\"\n",
              "            title=\"Suggest charts\"\n",
              "            style=\"display:none;\">\n",
              "\n",
              "<svg xmlns=\"http://www.w3.org/2000/svg\" height=\"24px\"viewBox=\"0 0 24 24\"\n",
              "     width=\"24px\">\n",
              "    <g>\n",
              "        <path d=\"M19 3H5c-1.1 0-2 .9-2 2v14c0 1.1.9 2 2 2h14c1.1 0 2-.9 2-2V5c0-1.1-.9-2-2-2zM9 17H7v-7h2v7zm4 0h-2V7h2v10zm4 0h-2v-4h2v4z\"/>\n",
              "    </g>\n",
              "</svg>\n",
              "  </button>\n",
              "\n",
              "<style>\n",
              "  .colab-df-quickchart {\n",
              "      --bg-color: #E8F0FE;\n",
              "      --fill-color: #1967D2;\n",
              "      --hover-bg-color: #E2EBFA;\n",
              "      --hover-fill-color: #174EA6;\n",
              "      --disabled-fill-color: #AAA;\n",
              "      --disabled-bg-color: #DDD;\n",
              "  }\n",
              "\n",
              "  [theme=dark] .colab-df-quickchart {\n",
              "      --bg-color: #3B4455;\n",
              "      --fill-color: #D2E3FC;\n",
              "      --hover-bg-color: #434B5C;\n",
              "      --hover-fill-color: #FFFFFF;\n",
              "      --disabled-bg-color: #3B4455;\n",
              "      --disabled-fill-color: #666;\n",
              "  }\n",
              "\n",
              "  .colab-df-quickchart {\n",
              "    background-color: var(--bg-color);\n",
              "    border: none;\n",
              "    border-radius: 50%;\n",
              "    cursor: pointer;\n",
              "    display: none;\n",
              "    fill: var(--fill-color);\n",
              "    height: 32px;\n",
              "    padding: 0;\n",
              "    width: 32px;\n",
              "  }\n",
              "\n",
              "  .colab-df-quickchart:hover {\n",
              "    background-color: var(--hover-bg-color);\n",
              "    box-shadow: 0 1px 2px rgba(60, 64, 67, 0.3), 0 1px 3px 1px rgba(60, 64, 67, 0.15);\n",
              "    fill: var(--button-hover-fill-color);\n",
              "  }\n",
              "\n",
              "  .colab-df-quickchart-complete:disabled,\n",
              "  .colab-df-quickchart-complete:disabled:hover {\n",
              "    background-color: var(--disabled-bg-color);\n",
              "    fill: var(--disabled-fill-color);\n",
              "    box-shadow: none;\n",
              "  }\n",
              "\n",
              "  .colab-df-spinner {\n",
              "    border: 2px solid var(--fill-color);\n",
              "    border-color: transparent;\n",
              "    border-bottom-color: var(--fill-color);\n",
              "    animation:\n",
              "      spin 1s steps(1) infinite;\n",
              "  }\n",
              "\n",
              "  @keyframes spin {\n",
              "    0% {\n",
              "      border-color: transparent;\n",
              "      border-bottom-color: var(--fill-color);\n",
              "      border-left-color: var(--fill-color);\n",
              "    }\n",
              "    20% {\n",
              "      border-color: transparent;\n",
              "      border-left-color: var(--fill-color);\n",
              "      border-top-color: var(--fill-color);\n",
              "    }\n",
              "    30% {\n",
              "      border-color: transparent;\n",
              "      border-left-color: var(--fill-color);\n",
              "      border-top-color: var(--fill-color);\n",
              "      border-right-color: var(--fill-color);\n",
              "    }\n",
              "    40% {\n",
              "      border-color: transparent;\n",
              "      border-right-color: var(--fill-color);\n",
              "      border-top-color: var(--fill-color);\n",
              "    }\n",
              "    60% {\n",
              "      border-color: transparent;\n",
              "      border-right-color: var(--fill-color);\n",
              "    }\n",
              "    80% {\n",
              "      border-color: transparent;\n",
              "      border-right-color: var(--fill-color);\n",
              "      border-bottom-color: var(--fill-color);\n",
              "    }\n",
              "    90% {\n",
              "      border-color: transparent;\n",
              "      border-bottom-color: var(--fill-color);\n",
              "    }\n",
              "  }\n",
              "</style>\n",
              "\n",
              "  <script>\n",
              "    async function quickchart(key) {\n",
              "      const quickchartButtonEl =\n",
              "        document.querySelector('#' + key + ' button');\n",
              "      quickchartButtonEl.disabled = true;  // To prevent multiple clicks.\n",
              "      quickchartButtonEl.classList.add('colab-df-spinner');\n",
              "      try {\n",
              "        const charts = await google.colab.kernel.invokeFunction(\n",
              "            'suggestCharts', [key], {});\n",
              "      } catch (error) {\n",
              "        console.error('Error during call to suggestCharts:', error);\n",
              "      }\n",
              "      quickchartButtonEl.classList.remove('colab-df-spinner');\n",
              "      quickchartButtonEl.classList.add('colab-df-quickchart-complete');\n",
              "    }\n",
              "    (() => {\n",
              "      let quickchartButtonEl =\n",
              "        document.querySelector('#df-19916f3b-5746-4f9e-a71e-a0dc7dce3db2 button');\n",
              "      quickchartButtonEl.style.display =\n",
              "        google.colab.kernel.accessAllowed ? 'block' : 'none';\n",
              "    })();\n",
              "  </script>\n",
              "</div>\n",
              "    </div>\n",
              "  </div>\n"
            ],
            "application/vnd.google.colaboratory.intrinsic+json": {
              "type": "dataframe",
              "summary": "{\n  \"name\": \"df_2\",\n  \"rows\": 4,\n  \"fields\": [\n    {\n      \"column\": \"visitas\",\n      \"properties\": {\n        \"dtype\": \"string\",\n        \"num_unique_values\": 4,\n        \"samples\": [\n          4,\n          \"10\",\n          \"24\"\n        ],\n        \"semantic_type\": \"\",\n        \"description\": \"\"\n      }\n    },\n    {\n      \"column\": \"horario\",\n      \"properties\": {\n        \"dtype\": \"date\",\n        \"min\": \"1970-01-01 00:00:00.000000004\",\n        \"max\": \"2024-04-25 13:00:00\",\n        \"num_unique_values\": 4,\n        \"samples\": [\n          4,\n          \"18\",\n          \"24\"\n        ],\n        \"semantic_type\": \"\",\n        \"description\": \"\"\n      }\n    },\n    {\n      \"column\": \"regularidad\",\n      \"properties\": {\n        \"dtype\": \"string\",\n        \"num_unique_values\": 4,\n        \"samples\": [\n          4,\n          \"14\",\n          \"24\"\n        ],\n        \"semantic_type\": \"\",\n        \"description\": \"\"\n      }\n    },\n    {\n      \"column\": \"espera\",\n      \"properties\": {\n        \"dtype\": \"string\",\n        \"num_unique_values\": 4,\n        \"samples\": [\n          3,\n          \"12\",\n          \"24\"\n        ],\n        \"semantic_type\": \"\",\n        \"description\": \"\"\n      }\n    },\n    {\n      \"column\": \"vivencias\",\n      \"properties\": {\n        \"dtype\": \"string\",\n        \"num_unique_values\": 4,\n        \"samples\": [\n          3,\n          \"17\",\n          \"24\"\n        ],\n        \"semantic_type\": \"\",\n        \"description\": \"\"\n      }\n    },\n    {\n      \"column\": \"disponibilidad\",\n      \"properties\": {\n        \"dtype\": \"string\",\n        \"num_unique_values\": 4,\n        \"samples\": [\n          4,\n          \"14\",\n          \"24\"\n        ],\n        \"semantic_type\": \"\",\n        \"description\": \"\"\n      }\n    }\n  ]\n}"
            }
          },
          "metadata": {},
          "execution_count": 19
        }
      ]
    },
    {
      "cell_type": "code",
      "source": [
        "df_2.duplicated().sum()"
      ],
      "metadata": {
        "id": "a5P_w1Sg8KG3",
        "colab": {
          "base_uri": "https://localhost:8080/"
        },
        "outputId": "63ecbf0a-8a37-4791-8790-492753b8b215"
      },
      "execution_count": 20,
      "outputs": [
        {
          "output_type": "execute_result",
          "data": {
            "text/plain": [
              "2"
            ]
          },
          "metadata": {},
          "execution_count": 20
        }
      ]
    },
    {
      "cell_type": "code",
      "source": [
        "df_2.isna().sum()"
      ],
      "metadata": {
        "id": "ReiquCqY8NRu",
        "colab": {
          "base_uri": "https://localhost:8080/"
        },
        "outputId": "485bd0b3-6cdd-43e8-dec3-3cfac617161a"
      },
      "execution_count": 21,
      "outputs": [
        {
          "output_type": "execute_result",
          "data": {
            "text/plain": [
              "visitas           0\n",
              "horario           0\n",
              "regularidad       0\n",
              "espera            0\n",
              "vivencias         0\n",
              "disponibilidad    0\n",
              "dtype: int64"
            ]
          },
          "metadata": {},
          "execution_count": 21
        }
      ]
    },
    {
      "cell_type": "markdown",
      "source": [
        "Limpieza de datos del primer Data Frame"
      ],
      "metadata": {
        "id": "Z_BrA_Ai9iyP"
      }
    },
    {
      "cell_type": "code",
      "source": [
        "df_3 = df_1[df_1['consentimiento'] == 'Acepto'].drop(['Nombre', 'Marca temporal', 'sugerencias'], axis=1)\n",
        "df_3"
      ],
      "metadata": {
        "id": "bJdbTc3fGcaC",
        "colab": {
          "base_uri": "https://localhost:8080/",
          "height": 1000
        },
        "outputId": "4a1b1e5c-6975-49ab-924f-6f8df282b6e2"
      },
      "execution_count": 22,
      "outputs": [
        {
          "output_type": "execute_result",
          "data": {
            "text/plain": [
              "   consentimiento                tiempo               frecuencia  \\\n",
              "0          Acepto  Entre 5 y 10 minutos     Dos veces por semana   \n",
              "1          Acepto     Más de 15 minutos       Una vez por semana   \n",
              "2          Acepto  Entre 5 y 10 minutos  Varias veces por semana   \n",
              "3          Acepto     Más de 15 minutos  Varias veces por semana   \n",
              "4          Acepto  Entre 5 y 10 minutos              Diariamente   \n",
              "5          Acepto    Menos de 5 minutos     Dos veces por semana   \n",
              "6          Acepto  Entre 5 y 10 minutos     Dos veces por semana   \n",
              "7          Acepto  Entre 5 y 10 minutos              Diariamente   \n",
              "8          Acepto  Entre 5 y 10 minutos     Dos veces por semana   \n",
              "9          Acepto  Entre 5 y 10 minutos  Varias veces por semana   \n",
              "10         Acepto     Más de 15 minutos  Varias veces por semana   \n",
              "11         Acepto  Entre 5 y 10 minutos     Dos veces por semana   \n",
              "12         Acepto  Entre 5 y 10 minutos              Diariamente   \n",
              "13         Acepto     Más de 15 minutos  Varias veces por semana   \n",
              "14         Acepto    Menos de 5 minutos  Varias veces por semana   \n",
              "15         Acepto    Menos de 5 minutos     Dos veces por semana   \n",
              "16         Acepto  Entre 5 y 10 minutos              Diariamente   \n",
              "18         Acepto     Más de 15 minutos     Dos veces por semana   \n",
              "19         Acepto    Menos de 5 minutos     Dos veces por semana   \n",
              "20         Acepto     Más de 15 minutos  Varias veces por semana   \n",
              "21         Acepto    Menos de 5 minutos     Dos veces por semana   \n",
              "22         Acepto     Más de 15 minutos  Varias veces por semana   \n",
              "23         Acepto  Entre 5 y 10 minutos              Diariamente   \n",
              "24         Acepto     Más de 15 minutos       Una vez por semana   \n",
              "25         Acepto     Más de 15 minutos  Varias veces por semana   \n",
              "26         Acepto  Entre 5 y 10 minutos  Varias veces por semana   \n",
              "27         Acepto     Más de 15 minutos     Dos veces por semana   \n",
              "28         Acepto     Más de 15 minutos  Varias veces por semana   \n",
              "29         Acepto     Más de 15 minutos     Dos veces por semana   \n",
              "30         Acepto  Entre 5 y 10 minutos  Varias veces por semana   \n",
              "31         Acepto  Entre 5 y 10 minutos  Varias veces por semana   \n",
              "32         Acepto  Entre 5 y 10 minutos                    Nunca   \n",
              "33         Acepto  Entre 5 y 10 minutos  Varias veces por semana   \n",
              "34         Acepto  Entre 5 y 10 minutos                    Nunca   \n",
              "35         Acepto  Entre 5 y 10 minutos     Dos veces por semana   \n",
              "36         Acepto    Menos de 5 minutos              Diariamente   \n",
              "37         Acepto  Entre 5 y 10 minutos              Diariamente   \n",
              "38         Acepto  Entre 5 y 10 minutos              Diariamente   \n",
              "39         Acepto  Entre 5 y 10 minutos  Varias veces por semana   \n",
              "40         Acepto    Menos de 5 minutos  Varias veces por semana   \n",
              "41         Acepto  Entre 5 y 10 minutos              Diariamente   \n",
              "42         Acepto  Entre 5 y 10 minutos              Diariamente   \n",
              "44         Acepto  Entre 5 y 10 minutos     Dos veces por semana   \n",
              "\n",
              "        satisfaccion                                      experiencias  \\\n",
              "0       Insatisfecho   Mediodía (entre las 11:00 a.m. y las 2:00 p.m.)   \n",
              "1       Insatisfecho   Mediodía (entre las 11:00 a.m. y las 2:00 p.m.)   \n",
              "2       Insatisfecho   Mediodía (entre las 11:00 a.m. y las 2:00 p.m.)   \n",
              "3       Insatisfecho   Mediodía (entre las 11:00 a.m. y las 2:00 p.m.)   \n",
              "4   Muy insatisfecho   Mediodía (entre las 11:00 a.m. y las 2:00 p.m.)   \n",
              "5         Satisfecho   Mediodía (entre las 11:00 a.m. y las 2:00 p.m.)   \n",
              "6       Insatisfecho   Mediodía (entre las 11:00 a.m. y las 2:00 p.m.)   \n",
              "7         Satisfecho   Mediodía (entre las 11:00 a.m. y las 2:00 p.m.)   \n",
              "8         Satisfecho   Mediodía (entre las 11:00 a.m. y las 2:00 p.m.)   \n",
              "9       Insatisfecho   Mediodía (entre las 11:00 a.m. y las 2:00 p.m.)   \n",
              "10        Satisfecho  No he experimentado tiempos de espera más largos   \n",
              "11        Satisfecho   Mediodía (entre las 11:00 a.m. y las 2:00 p.m.)   \n",
              "12        Satisfecho  No he experimentado tiempos de espera más largos   \n",
              "13      Insatisfecho   Mediodía (entre las 11:00 a.m. y las 2:00 p.m.)   \n",
              "14        Satisfecho   Mediodía (entre las 11:00 a.m. y las 2:00 p.m.)   \n",
              "15        Satisfecho  No he experimentado tiempos de espera más largos   \n",
              "16        Satisfecho   Mediodía (entre las 11:00 a.m. y las 2:00 p.m.)   \n",
              "18        Satisfecho   Mediodía (entre las 11:00 a.m. y las 2:00 p.m.)   \n",
              "19        Satisfecho   Mediodía (entre las 11:00 a.m. y las 2:00 p.m.)   \n",
              "20        Satisfecho   Mediodía (entre las 11:00 a.m. y las 2:00 p.m.)   \n",
              "21        Satisfecho  No he experimentado tiempos de espera más largos   \n",
              "22      Insatisfecho   Mediodía (entre las 11:00 a.m. y las 2:00 p.m.)   \n",
              "23        Satisfecho   Mediodía (entre las 11:00 a.m. y las 2:00 p.m.)   \n",
              "24        Satisfecho   Mediodía (entre las 11:00 a.m. y las 2:00 p.m.)   \n",
              "25      Insatisfecho   Mediodía (entre las 11:00 a.m. y las 2:00 p.m.)   \n",
              "26      Insatisfecho   Mediodía (entre las 11:00 a.m. y las 2:00 p.m.)   \n",
              "27        Satisfecho   Mediodía (entre las 11:00 a.m. y las 2:00 p.m.)   \n",
              "28      Insatisfecho   Mediodía (entre las 11:00 a.m. y las 2:00 p.m.)   \n",
              "29        Satisfecho   Mediodía (entre las 11:00 a.m. y las 2:00 p.m.)   \n",
              "30      Insatisfecho   Mediodía (entre las 11:00 a.m. y las 2:00 p.m.)   \n",
              "31      Insatisfecho   Mediodía (entre las 11:00 a.m. y las 2:00 p.m.)   \n",
              "32      Insatisfecho   Mediodía (entre las 11:00 a.m. y las 2:00 p.m.)   \n",
              "33      Insatisfecho   Mediodía (entre las 11:00 a.m. y las 2:00 p.m.)   \n",
              "34      Insatisfecho   Mediodía (entre las 11:00 a.m. y las 2:00 p.m.)   \n",
              "35        Satisfecho   Mediodía (entre las 11:00 a.m. y las 2:00 p.m.)   \n",
              "36    Muy satisfecho  No he experimentado tiempos de espera más largos   \n",
              "37      Insatisfecho   Mediodía (entre las 11:00 a.m. y las 2:00 p.m.)   \n",
              "38      Insatisfecho   Mediodía (entre las 11:00 a.m. y las 2:00 p.m.)   \n",
              "39      Insatisfecho   Mediodía (entre las 11:00 a.m. y las 2:00 p.m.)   \n",
              "40        Satisfecho   Mediodía (entre las 11:00 a.m. y las 2:00 p.m.)   \n",
              "41        Satisfecho  No he experimentado tiempos de espera más largos   \n",
              "42      Insatisfecho   Mediodía (entre las 11:00 a.m. y las 2:00 p.m.)   \n",
              "44      Insatisfecho   Mediodía (entre las 11:00 a.m. y las 2:00 p.m.)   \n",
              "\n",
              "                                             factores  \n",
              "0            Demanda alta en ciertos momentos del día  \n",
              "1            Demanda alta en ciertos momentos del día  \n",
              "2   Demanda alta en ciertos momentos del día, Proc...  \n",
              "3   Falta de personal, Demanda alta en ciertos mom...  \n",
              "4   Falta de personal, Demanda alta en ciertos mom...  \n",
              "5      Procesos lentos en la preparación de alimentos  \n",
              "6            Demanda alta en ciertos momentos del día  \n",
              "7            Demanda alta en ciertos momentos del día  \n",
              "8            Demanda alta en ciertos momentos del día  \n",
              "9   Falta de personal, Demanda alta en ciertos mom...  \n",
              "10  Falta de personal, Demanda alta en ciertos mom...  \n",
              "11           Demanda alta en ciertos momentos del día  \n",
              "12           Demanda alta en ciertos momentos del día  \n",
              "13           Demanda alta en ciertos momentos del día  \n",
              "14           Demanda alta en ciertos momentos del día  \n",
              "15           Demanda alta en ciertos momentos del día  \n",
              "16  Falta de personal, Demanda alta en ciertos mom...  \n",
              "18           Demanda alta en ciertos momentos del día  \n",
              "19           Demanda alta en ciertos momentos del día  \n",
              "20           Demanda alta en ciertos momentos del día  \n",
              "21           Demanda alta en ciertos momentos del día  \n",
              "22           Demanda alta en ciertos momentos del día  \n",
              "23           Demanda alta en ciertos momentos del día  \n",
              "24           Demanda alta en ciertos momentos del día  \n",
              "25           Demanda alta en ciertos momentos del día  \n",
              "26  Falta de personal, Demanda alta en ciertos mom...  \n",
              "27           Demanda alta en ciertos momentos del día  \n",
              "28           Demanda alta en ciertos momentos del día  \n",
              "29           Demanda alta en ciertos momentos del día  \n",
              "30  Falta de personal, Demanda alta en ciertos mom...  \n",
              "31           Demanda alta en ciertos momentos del día  \n",
              "32  Falta de personal, Procesos lentos en la prepa...  \n",
              "33  Falta de personal, Procesos lentos en la prepa...  \n",
              "34  Falta de personal, Demanda alta en ciertos mom...  \n",
              "35           Demanda alta en ciertos momentos del día  \n",
              "36           Demanda alta en ciertos momentos del día  \n",
              "37           Demanda alta en ciertos momentos del día  \n",
              "38           Demanda alta en ciertos momentos del día  \n",
              "39  Falta de personal, Demanda alta en ciertos mom...  \n",
              "40           Demanda alta en ciertos momentos del día  \n",
              "41  Falta de personal, Demanda alta en ciertos mom...  \n",
              "42           Demanda alta en ciertos momentos del día  \n",
              "44           Demanda alta en ciertos momentos del día  "
            ],
            "text/html": [
              "\n",
              "  <div id=\"df-32e2b184-d907-4489-93da-4fb6accec5e7\" class=\"colab-df-container\">\n",
              "    <div>\n",
              "<style scoped>\n",
              "    .dataframe tbody tr th:only-of-type {\n",
              "        vertical-align: middle;\n",
              "    }\n",
              "\n",
              "    .dataframe tbody tr th {\n",
              "        vertical-align: top;\n",
              "    }\n",
              "\n",
              "    .dataframe thead th {\n",
              "        text-align: right;\n",
              "    }\n",
              "</style>\n",
              "<table border=\"1\" class=\"dataframe\">\n",
              "  <thead>\n",
              "    <tr style=\"text-align: right;\">\n",
              "      <th></th>\n",
              "      <th>consentimiento</th>\n",
              "      <th>tiempo</th>\n",
              "      <th>frecuencia</th>\n",
              "      <th>satisfaccion</th>\n",
              "      <th>experiencias</th>\n",
              "      <th>factores</th>\n",
              "    </tr>\n",
              "  </thead>\n",
              "  <tbody>\n",
              "    <tr>\n",
              "      <th>0</th>\n",
              "      <td>Acepto</td>\n",
              "      <td>Entre 5 y 10 minutos</td>\n",
              "      <td>Dos veces por semana</td>\n",
              "      <td>Insatisfecho</td>\n",
              "      <td>Mediodía (entre las 11:00 a.m. y las 2:00 p.m.)</td>\n",
              "      <td>Demanda alta en ciertos momentos del día</td>\n",
              "    </tr>\n",
              "    <tr>\n",
              "      <th>1</th>\n",
              "      <td>Acepto</td>\n",
              "      <td>Más de 15 minutos</td>\n",
              "      <td>Una vez por semana</td>\n",
              "      <td>Insatisfecho</td>\n",
              "      <td>Mediodía (entre las 11:00 a.m. y las 2:00 p.m.)</td>\n",
              "      <td>Demanda alta en ciertos momentos del día</td>\n",
              "    </tr>\n",
              "    <tr>\n",
              "      <th>2</th>\n",
              "      <td>Acepto</td>\n",
              "      <td>Entre 5 y 10 minutos</td>\n",
              "      <td>Varias veces por semana</td>\n",
              "      <td>Insatisfecho</td>\n",
              "      <td>Mediodía (entre las 11:00 a.m. y las 2:00 p.m.)</td>\n",
              "      <td>Demanda alta en ciertos momentos del día, Proc...</td>\n",
              "    </tr>\n",
              "    <tr>\n",
              "      <th>3</th>\n",
              "      <td>Acepto</td>\n",
              "      <td>Más de 15 minutos</td>\n",
              "      <td>Varias veces por semana</td>\n",
              "      <td>Insatisfecho</td>\n",
              "      <td>Mediodía (entre las 11:00 a.m. y las 2:00 p.m.)</td>\n",
              "      <td>Falta de personal, Demanda alta en ciertos mom...</td>\n",
              "    </tr>\n",
              "    <tr>\n",
              "      <th>4</th>\n",
              "      <td>Acepto</td>\n",
              "      <td>Entre 5 y 10 minutos</td>\n",
              "      <td>Diariamente</td>\n",
              "      <td>Muy insatisfecho</td>\n",
              "      <td>Mediodía (entre las 11:00 a.m. y las 2:00 p.m.)</td>\n",
              "      <td>Falta de personal, Demanda alta en ciertos mom...</td>\n",
              "    </tr>\n",
              "    <tr>\n",
              "      <th>5</th>\n",
              "      <td>Acepto</td>\n",
              "      <td>Menos de 5 minutos</td>\n",
              "      <td>Dos veces por semana</td>\n",
              "      <td>Satisfecho</td>\n",
              "      <td>Mediodía (entre las 11:00 a.m. y las 2:00 p.m.)</td>\n",
              "      <td>Procesos lentos en la preparación de alimentos</td>\n",
              "    </tr>\n",
              "    <tr>\n",
              "      <th>6</th>\n",
              "      <td>Acepto</td>\n",
              "      <td>Entre 5 y 10 minutos</td>\n",
              "      <td>Dos veces por semana</td>\n",
              "      <td>Insatisfecho</td>\n",
              "      <td>Mediodía (entre las 11:00 a.m. y las 2:00 p.m.)</td>\n",
              "      <td>Demanda alta en ciertos momentos del día</td>\n",
              "    </tr>\n",
              "    <tr>\n",
              "      <th>7</th>\n",
              "      <td>Acepto</td>\n",
              "      <td>Entre 5 y 10 minutos</td>\n",
              "      <td>Diariamente</td>\n",
              "      <td>Satisfecho</td>\n",
              "      <td>Mediodía (entre las 11:00 a.m. y las 2:00 p.m.)</td>\n",
              "      <td>Demanda alta en ciertos momentos del día</td>\n",
              "    </tr>\n",
              "    <tr>\n",
              "      <th>8</th>\n",
              "      <td>Acepto</td>\n",
              "      <td>Entre 5 y 10 minutos</td>\n",
              "      <td>Dos veces por semana</td>\n",
              "      <td>Satisfecho</td>\n",
              "      <td>Mediodía (entre las 11:00 a.m. y las 2:00 p.m.)</td>\n",
              "      <td>Demanda alta en ciertos momentos del día</td>\n",
              "    </tr>\n",
              "    <tr>\n",
              "      <th>9</th>\n",
              "      <td>Acepto</td>\n",
              "      <td>Entre 5 y 10 minutos</td>\n",
              "      <td>Varias veces por semana</td>\n",
              "      <td>Insatisfecho</td>\n",
              "      <td>Mediodía (entre las 11:00 a.m. y las 2:00 p.m.)</td>\n",
              "      <td>Falta de personal, Demanda alta en ciertos mom...</td>\n",
              "    </tr>\n",
              "    <tr>\n",
              "      <th>10</th>\n",
              "      <td>Acepto</td>\n",
              "      <td>Más de 15 minutos</td>\n",
              "      <td>Varias veces por semana</td>\n",
              "      <td>Satisfecho</td>\n",
              "      <td>No he experimentado tiempos de espera más largos</td>\n",
              "      <td>Falta de personal, Demanda alta en ciertos mom...</td>\n",
              "    </tr>\n",
              "    <tr>\n",
              "      <th>11</th>\n",
              "      <td>Acepto</td>\n",
              "      <td>Entre 5 y 10 minutos</td>\n",
              "      <td>Dos veces por semana</td>\n",
              "      <td>Satisfecho</td>\n",
              "      <td>Mediodía (entre las 11:00 a.m. y las 2:00 p.m.)</td>\n",
              "      <td>Demanda alta en ciertos momentos del día</td>\n",
              "    </tr>\n",
              "    <tr>\n",
              "      <th>12</th>\n",
              "      <td>Acepto</td>\n",
              "      <td>Entre 5 y 10 minutos</td>\n",
              "      <td>Diariamente</td>\n",
              "      <td>Satisfecho</td>\n",
              "      <td>No he experimentado tiempos de espera más largos</td>\n",
              "      <td>Demanda alta en ciertos momentos del día</td>\n",
              "    </tr>\n",
              "    <tr>\n",
              "      <th>13</th>\n",
              "      <td>Acepto</td>\n",
              "      <td>Más de 15 minutos</td>\n",
              "      <td>Varias veces por semana</td>\n",
              "      <td>Insatisfecho</td>\n",
              "      <td>Mediodía (entre las 11:00 a.m. y las 2:00 p.m.)</td>\n",
              "      <td>Demanda alta en ciertos momentos del día</td>\n",
              "    </tr>\n",
              "    <tr>\n",
              "      <th>14</th>\n",
              "      <td>Acepto</td>\n",
              "      <td>Menos de 5 minutos</td>\n",
              "      <td>Varias veces por semana</td>\n",
              "      <td>Satisfecho</td>\n",
              "      <td>Mediodía (entre las 11:00 a.m. y las 2:00 p.m.)</td>\n",
              "      <td>Demanda alta en ciertos momentos del día</td>\n",
              "    </tr>\n",
              "    <tr>\n",
              "      <th>15</th>\n",
              "      <td>Acepto</td>\n",
              "      <td>Menos de 5 minutos</td>\n",
              "      <td>Dos veces por semana</td>\n",
              "      <td>Satisfecho</td>\n",
              "      <td>No he experimentado tiempos de espera más largos</td>\n",
              "      <td>Demanda alta en ciertos momentos del día</td>\n",
              "    </tr>\n",
              "    <tr>\n",
              "      <th>16</th>\n",
              "      <td>Acepto</td>\n",
              "      <td>Entre 5 y 10 minutos</td>\n",
              "      <td>Diariamente</td>\n",
              "      <td>Satisfecho</td>\n",
              "      <td>Mediodía (entre las 11:00 a.m. y las 2:00 p.m.)</td>\n",
              "      <td>Falta de personal, Demanda alta en ciertos mom...</td>\n",
              "    </tr>\n",
              "    <tr>\n",
              "      <th>18</th>\n",
              "      <td>Acepto</td>\n",
              "      <td>Más de 15 minutos</td>\n",
              "      <td>Dos veces por semana</td>\n",
              "      <td>Satisfecho</td>\n",
              "      <td>Mediodía (entre las 11:00 a.m. y las 2:00 p.m.)</td>\n",
              "      <td>Demanda alta en ciertos momentos del día</td>\n",
              "    </tr>\n",
              "    <tr>\n",
              "      <th>19</th>\n",
              "      <td>Acepto</td>\n",
              "      <td>Menos de 5 minutos</td>\n",
              "      <td>Dos veces por semana</td>\n",
              "      <td>Satisfecho</td>\n",
              "      <td>Mediodía (entre las 11:00 a.m. y las 2:00 p.m.)</td>\n",
              "      <td>Demanda alta en ciertos momentos del día</td>\n",
              "    </tr>\n",
              "    <tr>\n",
              "      <th>20</th>\n",
              "      <td>Acepto</td>\n",
              "      <td>Más de 15 minutos</td>\n",
              "      <td>Varias veces por semana</td>\n",
              "      <td>Satisfecho</td>\n",
              "      <td>Mediodía (entre las 11:00 a.m. y las 2:00 p.m.)</td>\n",
              "      <td>Demanda alta en ciertos momentos del día</td>\n",
              "    </tr>\n",
              "    <tr>\n",
              "      <th>21</th>\n",
              "      <td>Acepto</td>\n",
              "      <td>Menos de 5 minutos</td>\n",
              "      <td>Dos veces por semana</td>\n",
              "      <td>Satisfecho</td>\n",
              "      <td>No he experimentado tiempos de espera más largos</td>\n",
              "      <td>Demanda alta en ciertos momentos del día</td>\n",
              "    </tr>\n",
              "    <tr>\n",
              "      <th>22</th>\n",
              "      <td>Acepto</td>\n",
              "      <td>Más de 15 minutos</td>\n",
              "      <td>Varias veces por semana</td>\n",
              "      <td>Insatisfecho</td>\n",
              "      <td>Mediodía (entre las 11:00 a.m. y las 2:00 p.m.)</td>\n",
              "      <td>Demanda alta en ciertos momentos del día</td>\n",
              "    </tr>\n",
              "    <tr>\n",
              "      <th>23</th>\n",
              "      <td>Acepto</td>\n",
              "      <td>Entre 5 y 10 minutos</td>\n",
              "      <td>Diariamente</td>\n",
              "      <td>Satisfecho</td>\n",
              "      <td>Mediodía (entre las 11:00 a.m. y las 2:00 p.m.)</td>\n",
              "      <td>Demanda alta en ciertos momentos del día</td>\n",
              "    </tr>\n",
              "    <tr>\n",
              "      <th>24</th>\n",
              "      <td>Acepto</td>\n",
              "      <td>Más de 15 minutos</td>\n",
              "      <td>Una vez por semana</td>\n",
              "      <td>Satisfecho</td>\n",
              "      <td>Mediodía (entre las 11:00 a.m. y las 2:00 p.m.)</td>\n",
              "      <td>Demanda alta en ciertos momentos del día</td>\n",
              "    </tr>\n",
              "    <tr>\n",
              "      <th>25</th>\n",
              "      <td>Acepto</td>\n",
              "      <td>Más de 15 minutos</td>\n",
              "      <td>Varias veces por semana</td>\n",
              "      <td>Insatisfecho</td>\n",
              "      <td>Mediodía (entre las 11:00 a.m. y las 2:00 p.m.)</td>\n",
              "      <td>Demanda alta en ciertos momentos del día</td>\n",
              "    </tr>\n",
              "    <tr>\n",
              "      <th>26</th>\n",
              "      <td>Acepto</td>\n",
              "      <td>Entre 5 y 10 minutos</td>\n",
              "      <td>Varias veces por semana</td>\n",
              "      <td>Insatisfecho</td>\n",
              "      <td>Mediodía (entre las 11:00 a.m. y las 2:00 p.m.)</td>\n",
              "      <td>Falta de personal, Demanda alta en ciertos mom...</td>\n",
              "    </tr>\n",
              "    <tr>\n",
              "      <th>27</th>\n",
              "      <td>Acepto</td>\n",
              "      <td>Más de 15 minutos</td>\n",
              "      <td>Dos veces por semana</td>\n",
              "      <td>Satisfecho</td>\n",
              "      <td>Mediodía (entre las 11:00 a.m. y las 2:00 p.m.)</td>\n",
              "      <td>Demanda alta en ciertos momentos del día</td>\n",
              "    </tr>\n",
              "    <tr>\n",
              "      <th>28</th>\n",
              "      <td>Acepto</td>\n",
              "      <td>Más de 15 minutos</td>\n",
              "      <td>Varias veces por semana</td>\n",
              "      <td>Insatisfecho</td>\n",
              "      <td>Mediodía (entre las 11:00 a.m. y las 2:00 p.m.)</td>\n",
              "      <td>Demanda alta en ciertos momentos del día</td>\n",
              "    </tr>\n",
              "    <tr>\n",
              "      <th>29</th>\n",
              "      <td>Acepto</td>\n",
              "      <td>Más de 15 minutos</td>\n",
              "      <td>Dos veces por semana</td>\n",
              "      <td>Satisfecho</td>\n",
              "      <td>Mediodía (entre las 11:00 a.m. y las 2:00 p.m.)</td>\n",
              "      <td>Demanda alta en ciertos momentos del día</td>\n",
              "    </tr>\n",
              "    <tr>\n",
              "      <th>30</th>\n",
              "      <td>Acepto</td>\n",
              "      <td>Entre 5 y 10 minutos</td>\n",
              "      <td>Varias veces por semana</td>\n",
              "      <td>Insatisfecho</td>\n",
              "      <td>Mediodía (entre las 11:00 a.m. y las 2:00 p.m.)</td>\n",
              "      <td>Falta de personal, Demanda alta en ciertos mom...</td>\n",
              "    </tr>\n",
              "    <tr>\n",
              "      <th>31</th>\n",
              "      <td>Acepto</td>\n",
              "      <td>Entre 5 y 10 minutos</td>\n",
              "      <td>Varias veces por semana</td>\n",
              "      <td>Insatisfecho</td>\n",
              "      <td>Mediodía (entre las 11:00 a.m. y las 2:00 p.m.)</td>\n",
              "      <td>Demanda alta en ciertos momentos del día</td>\n",
              "    </tr>\n",
              "    <tr>\n",
              "      <th>32</th>\n",
              "      <td>Acepto</td>\n",
              "      <td>Entre 5 y 10 minutos</td>\n",
              "      <td>Nunca</td>\n",
              "      <td>Insatisfecho</td>\n",
              "      <td>Mediodía (entre las 11:00 a.m. y las 2:00 p.m.)</td>\n",
              "      <td>Falta de personal, Procesos lentos en la prepa...</td>\n",
              "    </tr>\n",
              "    <tr>\n",
              "      <th>33</th>\n",
              "      <td>Acepto</td>\n",
              "      <td>Entre 5 y 10 minutos</td>\n",
              "      <td>Varias veces por semana</td>\n",
              "      <td>Insatisfecho</td>\n",
              "      <td>Mediodía (entre las 11:00 a.m. y las 2:00 p.m.)</td>\n",
              "      <td>Falta de personal, Procesos lentos en la prepa...</td>\n",
              "    </tr>\n",
              "    <tr>\n",
              "      <th>34</th>\n",
              "      <td>Acepto</td>\n",
              "      <td>Entre 5 y 10 minutos</td>\n",
              "      <td>Nunca</td>\n",
              "      <td>Insatisfecho</td>\n",
              "      <td>Mediodía (entre las 11:00 a.m. y las 2:00 p.m.)</td>\n",
              "      <td>Falta de personal, Demanda alta en ciertos mom...</td>\n",
              "    </tr>\n",
              "    <tr>\n",
              "      <th>35</th>\n",
              "      <td>Acepto</td>\n",
              "      <td>Entre 5 y 10 minutos</td>\n",
              "      <td>Dos veces por semana</td>\n",
              "      <td>Satisfecho</td>\n",
              "      <td>Mediodía (entre las 11:00 a.m. y las 2:00 p.m.)</td>\n",
              "      <td>Demanda alta en ciertos momentos del día</td>\n",
              "    </tr>\n",
              "    <tr>\n",
              "      <th>36</th>\n",
              "      <td>Acepto</td>\n",
              "      <td>Menos de 5 minutos</td>\n",
              "      <td>Diariamente</td>\n",
              "      <td>Muy satisfecho</td>\n",
              "      <td>No he experimentado tiempos de espera más largos</td>\n",
              "      <td>Demanda alta en ciertos momentos del día</td>\n",
              "    </tr>\n",
              "    <tr>\n",
              "      <th>37</th>\n",
              "      <td>Acepto</td>\n",
              "      <td>Entre 5 y 10 minutos</td>\n",
              "      <td>Diariamente</td>\n",
              "      <td>Insatisfecho</td>\n",
              "      <td>Mediodía (entre las 11:00 a.m. y las 2:00 p.m.)</td>\n",
              "      <td>Demanda alta en ciertos momentos del día</td>\n",
              "    </tr>\n",
              "    <tr>\n",
              "      <th>38</th>\n",
              "      <td>Acepto</td>\n",
              "      <td>Entre 5 y 10 minutos</td>\n",
              "      <td>Diariamente</td>\n",
              "      <td>Insatisfecho</td>\n",
              "      <td>Mediodía (entre las 11:00 a.m. y las 2:00 p.m.)</td>\n",
              "      <td>Demanda alta en ciertos momentos del día</td>\n",
              "    </tr>\n",
              "    <tr>\n",
              "      <th>39</th>\n",
              "      <td>Acepto</td>\n",
              "      <td>Entre 5 y 10 minutos</td>\n",
              "      <td>Varias veces por semana</td>\n",
              "      <td>Insatisfecho</td>\n",
              "      <td>Mediodía (entre las 11:00 a.m. y las 2:00 p.m.)</td>\n",
              "      <td>Falta de personal, Demanda alta en ciertos mom...</td>\n",
              "    </tr>\n",
              "    <tr>\n",
              "      <th>40</th>\n",
              "      <td>Acepto</td>\n",
              "      <td>Menos de 5 minutos</td>\n",
              "      <td>Varias veces por semana</td>\n",
              "      <td>Satisfecho</td>\n",
              "      <td>Mediodía (entre las 11:00 a.m. y las 2:00 p.m.)</td>\n",
              "      <td>Demanda alta en ciertos momentos del día</td>\n",
              "    </tr>\n",
              "    <tr>\n",
              "      <th>41</th>\n",
              "      <td>Acepto</td>\n",
              "      <td>Entre 5 y 10 minutos</td>\n",
              "      <td>Diariamente</td>\n",
              "      <td>Satisfecho</td>\n",
              "      <td>No he experimentado tiempos de espera más largos</td>\n",
              "      <td>Falta de personal, Demanda alta en ciertos mom...</td>\n",
              "    </tr>\n",
              "    <tr>\n",
              "      <th>42</th>\n",
              "      <td>Acepto</td>\n",
              "      <td>Entre 5 y 10 minutos</td>\n",
              "      <td>Diariamente</td>\n",
              "      <td>Insatisfecho</td>\n",
              "      <td>Mediodía (entre las 11:00 a.m. y las 2:00 p.m.)</td>\n",
              "      <td>Demanda alta en ciertos momentos del día</td>\n",
              "    </tr>\n",
              "    <tr>\n",
              "      <th>44</th>\n",
              "      <td>Acepto</td>\n",
              "      <td>Entre 5 y 10 minutos</td>\n",
              "      <td>Dos veces por semana</td>\n",
              "      <td>Insatisfecho</td>\n",
              "      <td>Mediodía (entre las 11:00 a.m. y las 2:00 p.m.)</td>\n",
              "      <td>Demanda alta en ciertos momentos del día</td>\n",
              "    </tr>\n",
              "  </tbody>\n",
              "</table>\n",
              "</div>\n",
              "    <div class=\"colab-df-buttons\">\n",
              "\n",
              "  <div class=\"colab-df-container\">\n",
              "    <button class=\"colab-df-convert\" onclick=\"convertToInteractive('df-32e2b184-d907-4489-93da-4fb6accec5e7')\"\n",
              "            title=\"Convert this dataframe to an interactive table.\"\n",
              "            style=\"display:none;\">\n",
              "\n",
              "  <svg xmlns=\"http://www.w3.org/2000/svg\" height=\"24px\" viewBox=\"0 -960 960 960\">\n",
              "    <path d=\"M120-120v-720h720v720H120Zm60-500h600v-160H180v160Zm220 220h160v-160H400v160Zm0 220h160v-160H400v160ZM180-400h160v-160H180v160Zm440 0h160v-160H620v160ZM180-180h160v-160H180v160Zm440 0h160v-160H620v160Z\"/>\n",
              "  </svg>\n",
              "    </button>\n",
              "\n",
              "  <style>\n",
              "    .colab-df-container {\n",
              "      display:flex;\n",
              "      gap: 12px;\n",
              "    }\n",
              "\n",
              "    .colab-df-convert {\n",
              "      background-color: #E8F0FE;\n",
              "      border: none;\n",
              "      border-radius: 50%;\n",
              "      cursor: pointer;\n",
              "      display: none;\n",
              "      fill: #1967D2;\n",
              "      height: 32px;\n",
              "      padding: 0 0 0 0;\n",
              "      width: 32px;\n",
              "    }\n",
              "\n",
              "    .colab-df-convert:hover {\n",
              "      background-color: #E2EBFA;\n",
              "      box-shadow: 0px 1px 2px rgba(60, 64, 67, 0.3), 0px 1px 3px 1px rgba(60, 64, 67, 0.15);\n",
              "      fill: #174EA6;\n",
              "    }\n",
              "\n",
              "    .colab-df-buttons div {\n",
              "      margin-bottom: 4px;\n",
              "    }\n",
              "\n",
              "    [theme=dark] .colab-df-convert {\n",
              "      background-color: #3B4455;\n",
              "      fill: #D2E3FC;\n",
              "    }\n",
              "\n",
              "    [theme=dark] .colab-df-convert:hover {\n",
              "      background-color: #434B5C;\n",
              "      box-shadow: 0px 1px 3px 1px rgba(0, 0, 0, 0.15);\n",
              "      filter: drop-shadow(0px 1px 2px rgba(0, 0, 0, 0.3));\n",
              "      fill: #FFFFFF;\n",
              "    }\n",
              "  </style>\n",
              "\n",
              "    <script>\n",
              "      const buttonEl =\n",
              "        document.querySelector('#df-32e2b184-d907-4489-93da-4fb6accec5e7 button.colab-df-convert');\n",
              "      buttonEl.style.display =\n",
              "        google.colab.kernel.accessAllowed ? 'block' : 'none';\n",
              "\n",
              "      async function convertToInteractive(key) {\n",
              "        const element = document.querySelector('#df-32e2b184-d907-4489-93da-4fb6accec5e7');\n",
              "        const dataTable =\n",
              "          await google.colab.kernel.invokeFunction('convertToInteractive',\n",
              "                                                    [key], {});\n",
              "        if (!dataTable) return;\n",
              "\n",
              "        const docLinkHtml = 'Like what you see? Visit the ' +\n",
              "          '<a target=\"_blank\" href=https://colab.research.google.com/notebooks/data_table.ipynb>data table notebook</a>'\n",
              "          + ' to learn more about interactive tables.';\n",
              "        element.innerHTML = '';\n",
              "        dataTable['output_type'] = 'display_data';\n",
              "        await google.colab.output.renderOutput(dataTable, element);\n",
              "        const docLink = document.createElement('div');\n",
              "        docLink.innerHTML = docLinkHtml;\n",
              "        element.appendChild(docLink);\n",
              "      }\n",
              "    </script>\n",
              "  </div>\n",
              "\n",
              "\n",
              "<div id=\"df-08210aaa-f0e3-4183-b9ae-22dd9eec8017\">\n",
              "  <button class=\"colab-df-quickchart\" onclick=\"quickchart('df-08210aaa-f0e3-4183-b9ae-22dd9eec8017')\"\n",
              "            title=\"Suggest charts\"\n",
              "            style=\"display:none;\">\n",
              "\n",
              "<svg xmlns=\"http://www.w3.org/2000/svg\" height=\"24px\"viewBox=\"0 0 24 24\"\n",
              "     width=\"24px\">\n",
              "    <g>\n",
              "        <path d=\"M19 3H5c-1.1 0-2 .9-2 2v14c0 1.1.9 2 2 2h14c1.1 0 2-.9 2-2V5c0-1.1-.9-2-2-2zM9 17H7v-7h2v7zm4 0h-2V7h2v10zm4 0h-2v-4h2v4z\"/>\n",
              "    </g>\n",
              "</svg>\n",
              "  </button>\n",
              "\n",
              "<style>\n",
              "  .colab-df-quickchart {\n",
              "      --bg-color: #E8F0FE;\n",
              "      --fill-color: #1967D2;\n",
              "      --hover-bg-color: #E2EBFA;\n",
              "      --hover-fill-color: #174EA6;\n",
              "      --disabled-fill-color: #AAA;\n",
              "      --disabled-bg-color: #DDD;\n",
              "  }\n",
              "\n",
              "  [theme=dark] .colab-df-quickchart {\n",
              "      --bg-color: #3B4455;\n",
              "      --fill-color: #D2E3FC;\n",
              "      --hover-bg-color: #434B5C;\n",
              "      --hover-fill-color: #FFFFFF;\n",
              "      --disabled-bg-color: #3B4455;\n",
              "      --disabled-fill-color: #666;\n",
              "  }\n",
              "\n",
              "  .colab-df-quickchart {\n",
              "    background-color: var(--bg-color);\n",
              "    border: none;\n",
              "    border-radius: 50%;\n",
              "    cursor: pointer;\n",
              "    display: none;\n",
              "    fill: var(--fill-color);\n",
              "    height: 32px;\n",
              "    padding: 0;\n",
              "    width: 32px;\n",
              "  }\n",
              "\n",
              "  .colab-df-quickchart:hover {\n",
              "    background-color: var(--hover-bg-color);\n",
              "    box-shadow: 0 1px 2px rgba(60, 64, 67, 0.3), 0 1px 3px 1px rgba(60, 64, 67, 0.15);\n",
              "    fill: var(--button-hover-fill-color);\n",
              "  }\n",
              "\n",
              "  .colab-df-quickchart-complete:disabled,\n",
              "  .colab-df-quickchart-complete:disabled:hover {\n",
              "    background-color: var(--disabled-bg-color);\n",
              "    fill: var(--disabled-fill-color);\n",
              "    box-shadow: none;\n",
              "  }\n",
              "\n",
              "  .colab-df-spinner {\n",
              "    border: 2px solid var(--fill-color);\n",
              "    border-color: transparent;\n",
              "    border-bottom-color: var(--fill-color);\n",
              "    animation:\n",
              "      spin 1s steps(1) infinite;\n",
              "  }\n",
              "\n",
              "  @keyframes spin {\n",
              "    0% {\n",
              "      border-color: transparent;\n",
              "      border-bottom-color: var(--fill-color);\n",
              "      border-left-color: var(--fill-color);\n",
              "    }\n",
              "    20% {\n",
              "      border-color: transparent;\n",
              "      border-left-color: var(--fill-color);\n",
              "      border-top-color: var(--fill-color);\n",
              "    }\n",
              "    30% {\n",
              "      border-color: transparent;\n",
              "      border-left-color: var(--fill-color);\n",
              "      border-top-color: var(--fill-color);\n",
              "      border-right-color: var(--fill-color);\n",
              "    }\n",
              "    40% {\n",
              "      border-color: transparent;\n",
              "      border-right-color: var(--fill-color);\n",
              "      border-top-color: var(--fill-color);\n",
              "    }\n",
              "    60% {\n",
              "      border-color: transparent;\n",
              "      border-right-color: var(--fill-color);\n",
              "    }\n",
              "    80% {\n",
              "      border-color: transparent;\n",
              "      border-right-color: var(--fill-color);\n",
              "      border-bottom-color: var(--fill-color);\n",
              "    }\n",
              "    90% {\n",
              "      border-color: transparent;\n",
              "      border-bottom-color: var(--fill-color);\n",
              "    }\n",
              "  }\n",
              "</style>\n",
              "\n",
              "  <script>\n",
              "    async function quickchart(key) {\n",
              "      const quickchartButtonEl =\n",
              "        document.querySelector('#' + key + ' button');\n",
              "      quickchartButtonEl.disabled = true;  // To prevent multiple clicks.\n",
              "      quickchartButtonEl.classList.add('colab-df-spinner');\n",
              "      try {\n",
              "        const charts = await google.colab.kernel.invokeFunction(\n",
              "            'suggestCharts', [key], {});\n",
              "      } catch (error) {\n",
              "        console.error('Error during call to suggestCharts:', error);\n",
              "      }\n",
              "      quickchartButtonEl.classList.remove('colab-df-spinner');\n",
              "      quickchartButtonEl.classList.add('colab-df-quickchart-complete');\n",
              "    }\n",
              "    (() => {\n",
              "      let quickchartButtonEl =\n",
              "        document.querySelector('#df-08210aaa-f0e3-4183-b9ae-22dd9eec8017 button');\n",
              "      quickchartButtonEl.style.display =\n",
              "        google.colab.kernel.accessAllowed ? 'block' : 'none';\n",
              "    })();\n",
              "  </script>\n",
              "</div>\n",
              "    </div>\n",
              "  </div>\n"
            ],
            "application/vnd.google.colaboratory.intrinsic+json": {
              "type": "dataframe",
              "variable_name": "df_3",
              "summary": "{\n  \"name\": \"df_3\",\n  \"rows\": 43,\n  \"fields\": [\n    {\n      \"column\": \"consentimiento\",\n      \"properties\": {\n        \"dtype\": \"category\",\n        \"num_unique_values\": 1,\n        \"samples\": [\n          \"Acepto\"\n        ],\n        \"semantic_type\": \"\",\n        \"description\": \"\"\n      }\n    },\n    {\n      \"column\": \"tiempo\",\n      \"properties\": {\n        \"dtype\": \"category\",\n        \"num_unique_values\": 3,\n        \"samples\": [\n          \"Entre 5 y 10 minutos\"\n        ],\n        \"semantic_type\": \"\",\n        \"description\": \"\"\n      }\n    },\n    {\n      \"column\": \"frecuencia\",\n      \"properties\": {\n        \"dtype\": \"category\",\n        \"num_unique_values\": 5,\n        \"samples\": [\n          \"Una vez por semana\"\n        ],\n        \"semantic_type\": \"\",\n        \"description\": \"\"\n      }\n    },\n    {\n      \"column\": \"satisfaccion\",\n      \"properties\": {\n        \"dtype\": \"category\",\n        \"num_unique_values\": 4,\n        \"samples\": [\n          \"Muy insatisfecho\"\n        ],\n        \"semantic_type\": \"\",\n        \"description\": \"\"\n      }\n    },\n    {\n      \"column\": \"experiencias\",\n      \"properties\": {\n        \"dtype\": \"category\",\n        \"num_unique_values\": 2,\n        \"samples\": [\n          \"No he experimentado tiempos de espera m\\u00e1s largos\"\n        ],\n        \"semantic_type\": \"\",\n        \"description\": \"\"\n      }\n    },\n    {\n      \"column\": \"factores\",\n      \"properties\": {\n        \"dtype\": \"category\",\n        \"num_unique_values\": 6,\n        \"samples\": [\n          \"Demanda alta en ciertos momentos del d\\u00eda\"\n        ],\n        \"semantic_type\": \"\",\n        \"description\": \"\"\n      }\n    }\n  ]\n}"
            }
          },
          "metadata": {},
          "execution_count": 22
        }
      ]
    },
    {
      "cell_type": "markdown",
      "source": [
        "El rango de tiempo de espera más escogido por los usuarios (encontrar los porcentajes de usuarios que escogieron cada opción y luego hacer una gráfica comparandolos) s\n",
        "\n"
      ],
      "metadata": {
        "id": "ErBvZurUPJem"
      }
    },
    {
      "cell_type": "code",
      "source": [
        "rango_espera=df_3.loc[:,['experiencias']]\n",
        "medio_dia = rango_espera.loc[rango_espera['experiencias'] == \"Mediodía (entre las 11:00 a.m. y las 2:00 p.m.)\"]\n",
        "filas, columnas=medio_dia.shape\n",
        "print(\"El numero de usuarios que escogieron esa opcion es: \", filas)\n",
        "porcentaje_medio = (len(medio_dia) / len(rango_espera)) * 100\n",
        "print(\"El porcentaje de usuarios que escogieron entre las 11:00 a.m. y las 2:00 p.m : {:.2f}%\".format(porcentaje_medio))"
      ],
      "metadata": {
        "id": "Yl_yWQPcdng5",
        "colab": {
          "base_uri": "https://localhost:8080/"
        },
        "outputId": "a75d9042-e3ec-4d0d-a639-cc4146bedf45"
      },
      "execution_count": 23,
      "outputs": [
        {
          "output_type": "stream",
          "name": "stdout",
          "text": [
            "El numero de usuarios que escogieron esa opcion es:  37\n",
            "El porcentaje de usuarios que escogieron entre las 11:00 a.m. y las 2:00 p.m : 86.05%\n"
          ]
        }
      ]
    },
    {
      "cell_type": "code",
      "source": [
        "no_exp = rango_espera.loc[rango_espera['experiencias'] == \"No he experimentado tiempos de espera más largos\"]\n",
        "filas_1, columnas_1=no_exp.shape\n",
        "print(\"El numero de usuarios que no he experimentado tiempos de espera más largos: \", filas_1)\n",
        "porcentaje_exp = (len(no_exp) / len(rango_espera)) * 100\n",
        "print(\"El porcentaje de usuarios que No han experimentado tiempos de espera más largos : {:.2f}%\".format(porcentaje_exp))"
      ],
      "metadata": {
        "id": "E8YPjYTMfoDi",
        "colab": {
          "base_uri": "https://localhost:8080/"
        },
        "outputId": "6fc18435-fe30-45f4-c0a4-33761f737e50"
      },
      "execution_count": 24,
      "outputs": [
        {
          "output_type": "stream",
          "name": "stdout",
          "text": [
            "El numero de usuarios que no he experimentado tiempos de espera más largos:  6\n",
            "El porcentaje de usuarios que No han experimentado tiempos de espera más largos : 13.95%\n"
          ]
        }
      ]
    },
    {
      "cell_type": "code",
      "source": [
        "labels=['Mediodía entre las 11:00 a.m. y las 2:00 p.m.', 'No han experimentado tiempos de espera más largos']\n",
        "sizes=[porcentaje_medio, porcentaje_exp]\n",
        "plt.pie(sizes, labels=labels, colors=['deepskyblue', 'cadetblue'], autopct='%1.1f%%', startangle=140)\n",
        "plt.title(' porcentajes de usuarios que escogieron cada opción')\n",
        "plt.axis('equal')\n",
        "plt.show()"
      ],
      "metadata": {
        "id": "z3RsAlVum8fu",
        "colab": {
          "base_uri": "https://localhost:8080/",
          "height": 429
        },
        "outputId": "0be1ddf4-5856-4d19-bb41-653be10662f1"
      },
      "execution_count": 25,
      "outputs": [
        {
          "output_type": "display_data",
          "data": {
            "text/plain": [
              "<Figure size 640x480 with 1 Axes>"
            ],
            "image/png": "[encoded data removed]"
          },
          "metadata": {}
        }
      ]
    },
    {
      "cell_type": "markdown",
      "source": [
        "¿Cuáles son los intervalos de tiempo específicos de espera más y menos frecuentemente seleccionados por los usuarios, representados gráficamente junto con los porcentajes de usuarios que optaron por cada opción? s"
      ],
      "metadata": {
        "id": "NbWjl31nosPX"
      }
    },
    {
      "cell_type": "code",
      "source": [
        "tiempo_espera=df_3.loc[:,['tiempo']]\n",
        "time_max = tiempo_espera.loc[tiempo_espera['tiempo'] == \"Entre 5 y 10 minutos\"]\n",
        "fil, col= time_max.shape\n",
        "print(\"El numero de usuarios que escogieron esa opcion es: \", fil)\n",
        "porcentaje_max = (len(time_max) / len(tiempo_espera)) * 100\n",
        "print(\"El porcentaje del tiempo de espera mas seleccionadoes:  {:.2f}%\".format(porcentaje_max))"
      ],
      "metadata": {
        "id": "k7bzlf56or7w",
        "colab": {
          "base_uri": "https://localhost:8080/"
        },
        "outputId": "e74c7440-fba3-4d95-86bc-a2eaa5f1c3f3"
      },
      "execution_count": 26,
      "outputs": [
        {
          "output_type": "stream",
          "name": "stdout",
          "text": [
            "El numero de usuarios que escogieron esa opcion es:  24\n",
            "El porcentaje del tiempo de espera mas seleccionadoes:  55.81%\n"
          ]
        }
      ]
    },
    {
      "cell_type": "code",
      "source": [
        "time_med = tiempo_espera.loc[tiempo_espera['tiempo'] == \"Más de 15 minutos\"]\n",
        "fil_1, col_1= time_med.shape\n",
        "print(\"El numero de usuarios que escogieron esa opcion es: \", fil_1)\n",
        "porcentaje_med = (len(time_med) / len(tiempo_espera)) * 100\n",
        "print(\"El porcentaje del tiempo de espera mas seleccionadoes:  {:.2f}%\".format(porcentaje_med))"
      ],
      "metadata": {
        "id": "4nzIN1gutM_F",
        "colab": {
          "base_uri": "https://localhost:8080/"
        },
        "outputId": "b1c04f41-a831-4b21-b55d-f051b62a3ab5"
      },
      "execution_count": 27,
      "outputs": [
        {
          "output_type": "stream",
          "name": "stdout",
          "text": [
            "El numero de usuarios que escogieron esa opcion es:  12\n",
            "El porcentaje del tiempo de espera mas seleccionadoes:  27.91%\n"
          ]
        }
      ]
    },
    {
      "cell_type": "code",
      "source": [
        "time_min = tiempo_espera.loc[tiempo_espera['tiempo'] == \"Menos de 5 minutos\"]\n",
        "fil_2, col_2= time_min.shape\n",
        "print(\"El numero de usuarios que escogieron esa opcion es: \", fil_2)\n",
        "porcentaje_min = (len(time_min) / len(tiempo_espera)) * 100\n",
        "print(\"El porcentaje del tiempo de espera mas seleccionadoes:  {:.2f}%\".format(porcentaje_min))"
      ],
      "metadata": {
        "id": "4sEiGNCOux9c",
        "colab": {
          "base_uri": "https://localhost:8080/"
        },
        "outputId": "4b74a499-a6c2-4885-893f-fd71f0fc6c14"
      },
      "execution_count": 28,
      "outputs": [
        {
          "output_type": "stream",
          "name": "stdout",
          "text": [
            "El numero de usuarios que escogieron esa opcion es:  7\n",
            "El porcentaje del tiempo de espera mas seleccionadoes:  16.28%\n"
          ]
        }
      ]
    },
    {
      "cell_type": "code",
      "source": [
        "labels = ['Entre 5 y 10 minutos', 'Más de 15 minutos', 'Menos de 5 minutos']\n",
        "sizes = [porcentaje_max, porcentaje_med, porcentaje_min]\n",
        "\n",
        "plt.figure(figsize=(10, 6))\n",
        "bars = plt.bar(labels, sizes, color=['cyan', 'indigo', 'teal'])\n",
        "\n",
        "plt.ylabel('Porcentaje (%)')\n",
        "plt.title('Distribución del tiempo de espera')\n",
        "\n",
        "for bar in bars:\n",
        "    yval = bar.get_height()\n",
        "    plt.text(bar.get_x() + bar.get_width()/2, yval + 0.5, f\"{round(yval, 1)}%\", ha='center', va='bottom')\n",
        "\n",
        "plt.grid(axis='y')\n",
        "plt.show()\n",
        "\n"
      ],
      "metadata": {
        "id": "LReLZncmzqM5",
        "colab": {
          "base_uri": "https://localhost:8080/",
          "height": 545
        },
        "outputId": "fbfbfdf1-1668-4eb1-930f-54a58173d26a"
      },
      "execution_count": 29,
      "outputs": [
        {
          "output_type": "display_data",
          "data": {
            "text/plain": [
              "<Figure size 1000x600 with 1 Axes>"
            ],
            "image/png": "[encoded data removed]"
          },
          "metadata": {}
        }
      ]
    },
    {
      "cell_type": "code",
      "source": [
        "#Misma informacion plasmada en un grafdico diferente.\n",
        "labels = ['Entre 5 y 10 minutos', 'Más de 15 minutos', 'Menos de 5 minutos']\n",
        "sizes = [porcentaje_max, porcentaje_med, porcentaje_min]\n",
        "\n",
        "plt.figure(figsize=(8, 8))\n",
        "plt.pie(sizes, labels=labels, colors=['beige','mediumpurple','mistyrose'], autopct='%1.1f%%', startangle=140)\n",
        "plt.title('Distribución del tiempo de espera')\n",
        "plt.axis('equal')\n",
        "plt.show()"
      ],
      "metadata": {
        "colab": {
          "base_uri": "https://localhost:8080/",
          "height": 675
        },
        "id": "C_VpdHUnLUyu",
        "outputId": "5a74e598-dc78-4a45-bf9c-5628a4250f72"
      },
      "execution_count": 30,
      "outputs": [
        {
          "output_type": "display_data",
          "data": {
            "text/plain": [
              "<Figure size 800x800 with 1 Axes>"
            ],
            "image/png": "[encoded data removed]"
          },
          "metadata": {}
        }
      ]
    },
    {
      "cell_type": "markdown",
      "source": [
        "¿Cual es la frecuencia con la que los usuarios visitan la cafetería de la Universidad Autónoma de Occidente?"
      ],
      "metadata": {
        "id": "7W1XnMpi3Jqj"
      }
    },
    {
      "cell_type": "code",
      "source": [
        "usuarios,columnas=df_3.shape\n",
        "print(\"El número de usuarios encuestados es: \",usuarios)\n"
      ],
      "metadata": {
        "id": "LuxjrtZ23YRq",
        "colab": {
          "base_uri": "https://localhost:8080/"
        },
        "outputId": "9b3a8fb0-d3a2-4bc0-c276-ab379a754719"
      },
      "execution_count": 31,
      "outputs": [
        {
          "output_type": "stream",
          "name": "stdout",
          "text": [
            "El número de usuarios encuestados es:  43\n"
          ]
        }
      ]
    },
    {
      "cell_type": "code",
      "source": [
        "frecuencia_diaria=df_3.loc[df_3[\"frecuencia\"]==\"Diariamente\"]\n",
        "usuariosDiario,columnas=frecuencia_diaria.shape\n",
        "\n",
        "frecuencia_2veces=df_3.loc[df_3[\"frecuencia\"]==\"Dos veces por semana\"]\n",
        "usuariosDosvez,columnas=frecuencia_2veces.shape\n",
        "\n",
        "frecuencia_1vez=df_3.loc[df_3[\"frecuencia\"]==\"Una vez por semana\"]\n",
        "usuariosUnavez,columnas=frecuencia_1vez.shape\n",
        "\n",
        "frecuencia_varias=df_3.loc[df_3[\"frecuencia\"]==\"Varias veces por semana\"]\n",
        "usuariosVarias,columnas=frecuencia_varias.shape\n",
        "\n",
        "frecuencia_nunca=df_3.loc[df_3[\"frecuencia\"]==\"Nunca\"]\n",
        "usuariosNunca,columnas=frecuencia_nunca.shape\n",
        "\n",
        "print(\"El número de usuarios que frecuentan la cafetería de la Universidad Autónoma de Occidente diariamente es: \",usuariosDiario)\n",
        "print(\"El número de usuarios que frecuentan la cafetería de la Universidad Autónoma de Occidente dos veces por semana es: \",usuariosDosvez)\n",
        "print(\"El número de usuarios que frecuentan la cafetería de la Universidad Autónoma de Occidente una vez por semana es: \",usuariosUnavez)\n",
        "print(\"El número de usuarios que frecuentan la cafetería de la Universidad Autónoma de Occidente varias veces por semana es: \",usuariosVarias)\n",
        "print(\"El número de usuarios que frecuentan la cafetería de la Universidad Autónoma de Occidente varias veces por semana es: \",usuariosVarias)"
      ],
      "metadata": {
        "id": "Qt9HIGuN3ObV",
        "colab": {
          "base_uri": "https://localhost:8080/"
        },
        "outputId": "8232c9de-7eed-4fa4-efb6-2b13dcfe5ebb"
      },
      "execution_count": 32,
      "outputs": [
        {
          "output_type": "stream",
          "name": "stdout",
          "text": [
            "El número de usuarios que frecuentan la cafetería de la Universidad Autónoma de Occidente diariamente es:  10\n",
            "El número de usuarios que frecuentan la cafetería de la Universidad Autónoma de Occidente dos veces por semana es:  13\n",
            "El número de usuarios que frecuentan la cafetería de la Universidad Autónoma de Occidente una vez por semana es:  2\n",
            "El número de usuarios que frecuentan la cafetería de la Universidad Autónoma de Occidente varias veces por semana es:  16\n",
            "El número de usuarios que frecuentan la cafetería de la Universidad Autónoma de Occidente varias veces por semana es:  16\n"
          ]
        }
      ]
    },
    {
      "cell_type": "code",
      "source": [
        "porcentajeDiario = usuariosDiario / usuarios * 100\n",
        "\n",
        "porcentaje_2veces = usuariosDosvez / usuarios * 100\n",
        "\n",
        "porcentaje_1vez = usuariosUnavez / usuarios * 100\n",
        "\n",
        "porcentaje_varias = usuariosVarias / usuarios * 100\n",
        "\n",
        "porcentaje_nunca = usuariosNunca / usuarios * 100\n",
        "\n",
        "print(\"El porcentaje de usuarios que frecuentan la cafetería de la Universidad Autónoma de Occidente diariamente es: {:.2f}%\".format(porcentajeDiario))\n",
        "print(\"El porcentaje de usuarios que frecuentan la cafetería de la Universidad Autónoma de Occidente dos veces por semana es: {:.2f}%\".format(porcentaje_2veces))\n",
        "print(\"El porcentaje de usuarios que frecuentan la cafetería de la Universidad Autónoma de Occidente una vez por semana es: {:.2f}%\".format(porcentaje_1vez))\n",
        "print(\"El porcentaje de usuarios que frecuentan la cafetería de la Universidad Autónoma de Occidente varias veces por semana es: {:.2f}%\".format(porcentaje_varias))\n",
        "print(\"El porcentaje de usuarios que nunca frecuentan la cafetería de la Universidad Autónoma de Occidente por semana es: {:.2f}%\".format(porcentaje_nunca))"
      ],
      "metadata": {
        "id": "mxI0GMyB3QbS",
        "colab": {
          "base_uri": "https://localhost:8080/"
        },
        "outputId": "2b917936-8290-43ba-d931-b89244cdd82c"
      },
      "execution_count": 33,
      "outputs": [
        {
          "output_type": "stream",
          "name": "stdout",
          "text": [
            "El porcentaje de usuarios que frecuentan la cafetería de la Universidad Autónoma de Occidente diariamente es: 23.26%\n",
            "El porcentaje de usuarios que frecuentan la cafetería de la Universidad Autónoma de Occidente dos veces por semana es: 30.23%\n",
            "El porcentaje de usuarios que frecuentan la cafetería de la Universidad Autónoma de Occidente una vez por semana es: 4.65%\n",
            "El porcentaje de usuarios que frecuentan la cafetería de la Universidad Autónoma de Occidente varias veces por semana es: 37.21%\n",
            "El porcentaje de usuarios que nunca frecuentan la cafetería de la Universidad Autónoma de Occidente por semana es: 4.65%\n"
          ]
        }
      ]
    },
    {
      "cell_type": "code",
      "source": [
        "labels = ['Diariamente', 'Dos veces por semana', 'Una vez por semana', 'Varias veces por semana', 'Nunca']\n",
        "sizes = [porcentajeDiario, porcentaje_2veces, porcentaje_1vez, porcentaje_varias, porcentaje_nunca]\n",
        "colors = ['deepskyblue', 'cadetblue', 'lightcoral', 'gold', 'lightgreen']\n",
        "\n",
        "plt.figure(figsize=(8, 6))\n",
        "\n",
        "plt.pie(sizes, labels=labels, colors=colors, autopct='%1.1f%%', startangle=140, pctdistance=0.85)\n",
        "\n",
        "circle = plt.Circle((0, 0), 0.70, fc='white')\n",
        "plt.gca().add_artist(circle)\n",
        "\n",
        "plt.title('Frecuencia de visitas a la cafetería', fontsize=16, pad=20)\n",
        "\n",
        "plt.axis('equal')\n",
        "plt.tight_layout()\n",
        "plt.show()"
      ],
      "metadata": {
        "colab": {
          "base_uri": "https://localhost:8080/",
          "height": 610
        },
        "id": "AZGdy1Tj6iRj",
        "outputId": "f1b47b99-d90f-4271-895e-454d5ed545e1"
      },
      "execution_count": 34,
      "outputs": [
        {
          "output_type": "display_data",
          "data": {
            "text/plain": [
              "<Figure size 800x600 with 1 Axes>"
            ],
            "image/png": "[encoded data removed]"
          },
          "metadata": {}
        }
      ]
    },
    {
      "cell_type": "markdown",
      "source": [
        "\n",
        "¿Cuáles fueron las opciones de satisfacción más y menos seleccionadas por los usuarios? (Encuesta realizada durante este semestre) mj"
      ],
      "metadata": {
        "id": "yBZBg73-H-9p"
      }
    },
    {
      "cell_type": "code",
      "source": [
        "valores_s=df_3.loc[:,['satisfaccion']]\n",
        "valores_s.shape"
      ],
      "metadata": {
        "id": "mF7mhLN1p-l1",
        "colab": {
          "base_uri": "https://localhost:8080/"
        },
        "outputId": "e4c99a29-389c-4541-e53b-c92e2e7a4730"
      },
      "execution_count": 35,
      "outputs": [
        {
          "output_type": "execute_result",
          "data": {
            "text/plain": [
              "(43, 1)"
            ]
          },
          "metadata": {},
          "execution_count": 35
        }
      ]
    },
    {
      "cell_type": "code",
      "source": [
        "satisfecho=valores_s.loc[valores_s['satisfaccion']==\"Satisfecho\"]\n",
        "satisfecho.shape\n",
        "satisfechito=satisfecho.shape[0]\n",
        "print(\"El total de personas que eligieron satisfecho es:\",satisfechito)\n",
        "porcentaje_s = (len(satisfecho) / len(valores_s)) * 100\n",
        "print(\"El porcentaje de usuarios que escogieron Satisfecho : {:.2f}%\".format(porcentaje_s))"
      ],
      "metadata": {
        "colab": {
          "base_uri": "https://localhost:8080/"
        },
        "id": "ouJXPaoHH6Wx",
        "outputId": "ee62930a-24e9-4f62-c6b7-fa64bd9d063f"
      },
      "execution_count": 36,
      "outputs": [
        {
          "output_type": "stream",
          "name": "stdout",
          "text": [
            "El total de personas que eligieron satisfecho es: 20\n",
            "El porcentaje de usuarios que escogieron Satisfecho : 46.51%\n"
          ]
        }
      ]
    },
    {
      "cell_type": "code",
      "source": [
        "insatisfecho =valores_s.loc[valores_s['satisfaccion']==\"Insatisfecho\"]\n",
        "insatisfecho.shape\n",
        "insatisfechito=insatisfecho.shape[0]\n",
        "print(\"El total de personas que eligieron insatisfecho es:\",insatisfechito)\n",
        "porcentaje_ins = (len(insatisfecho) / len(valores_s)) * 100\n",
        "print(\"El porcentaje de usuarios que escogieron insatisfecho : {:.2f}%\".format(porcentaje_ins))"
      ],
      "metadata": {
        "colab": {
          "base_uri": "https://localhost:8080/"
        },
        "id": "fbizry94IbtF",
        "outputId": "c0b462ab-e5e3-48e0-f057-a153d0c3afa9"
      },
      "execution_count": 37,
      "outputs": [
        {
          "output_type": "stream",
          "name": "stdout",
          "text": [
            "El total de personas que eligieron insatisfecho es: 21\n",
            "El porcentaje de usuarios que escogieron insatisfecho : 48.84%\n"
          ]
        }
      ]
    },
    {
      "cell_type": "code",
      "source": [
        "insatisfecho_2 =valores_s.loc[valores_s['satisfaccion']==\"Muy insatisfecho\"]\n",
        "insatisfecho_2.shape\n",
        "insatisfechito_2=insatisfecho_2.shape[0]\n",
        "print(\"El total de personas que eligieron muy insatisfecho es:\",insatisfechito_2)\n",
        "porcentaje_ins_2 = (len(insatisfecho_2) / len(valores_s)) * 100\n",
        "print(\"El porcentaje de usuarios que escogieron muy insatisfecho : {:.2f}%\".format(porcentaje_ins_2))"
      ],
      "metadata": {
        "colab": {
          "base_uri": "https://localhost:8080/"
        },
        "id": "Up7onq8BIbeO",
        "outputId": "9372c84d-7e54-4fd6-e20e-70ff2f2dc461"
      },
      "execution_count": 38,
      "outputs": [
        {
          "output_type": "stream",
          "name": "stdout",
          "text": [
            "El total de personas que eligieron muy insatisfecho es: 1\n",
            "El porcentaje de usuarios que escogieron muy insatisfecho : 2.33%\n"
          ]
        }
      ]
    },
    {
      "cell_type": "code",
      "source": [
        "satisfecho_2 =valores_s.loc[valores_s['satisfaccion']==\"Muy satisfecho\"]\n",
        "satisfecho_2.shape\n",
        "satisfechito_2=satisfecho_2.shape[0]\n",
        "print(\"El total de personas que eligieron muy satisfecho es:\",satisfechito_2)\n",
        "porcentaje_s_2 = (len(satisfecho_2) / len(valores_s)) * 100\n",
        "print(\"El porcentaje de usuarios que escogieron muy satisfecho : {:.2f}%\".format(porcentaje_s_2))"
      ],
      "metadata": {
        "id": "xfxKiZGfIbXI",
        "colab": {
          "base_uri": "https://localhost:8080/"
        },
        "outputId": "337c214e-e159-46d2-eaa3-75bc12b7bccf"
      },
      "execution_count": 39,
      "outputs": [
        {
          "output_type": "stream",
          "name": "stdout",
          "text": [
            "El total de personas que eligieron muy satisfecho es: 1\n",
            "El porcentaje de usuarios que escogieron muy satisfecho : 2.33%\n"
          ]
        }
      ]
    },
    {
      "cell_type": "code",
      "source": [
        "labels=['Satisfecho', 'Insatisfecho','Muy insatisfecho','Muy satisfecho']\n",
        "sizes=[porcentaje_s, porcentaje_ins,porcentaje_ins_2,porcentaje_s_2]\n",
        "plt.pie(sizes, labels=labels, colors=['skyblue', 'beige','mediumpurple','mistyrose'], autopct='%1.1f%%', startangle=140)\n",
        "plt.title('Niveles de satisfacción.')\n",
        "plt.axis('equal')\n",
        "plt.show()"
      ],
      "metadata": {
        "id": "tOPJP5RgIbCu",
        "colab": {
          "base_uri": "https://localhost:8080/",
          "height": 428
        },
        "outputId": "c790e7e5-0545-4ca9-8d2d-d02e21523440"
      },
      "execution_count": 40,
      "outputs": [
        {
          "output_type": "display_data",
          "data": {
            "text/plain": [
              "<Figure size 640x480 with 1 Axes>"
            ],
            "image/png": "[encoded data removed]"
          },
          "metadata": {}
        }
      ]
    },
    {
      "cell_type": "markdown",
      "source": [
        "¿Cuál es el nivel de satisfacción e insatisfacción de los usuarios en relación con la encuesta uno y la encuesta dos, expresado en porcentajes para ambas encuestas?"
      ],
      "metadata": {
        "id": "xdJwMfdk7qJp"
      }
    },
    {
      "cell_type": "code",
      "source": [
        "#DATAFRAME DE LA PRIMERA ENCUESTA\n",
        "satisfaccion_1=df_2.loc[:,['disponibilidad']]\n",
        "satisfechos = satisfaccion_1.loc[satisfaccion_1['disponibilidad'] == \"Satisfech@\"]\n",
        "f_1, c_1=satisfechos.shape\n",
        "print(\"El numero de usuarios satisfechos es: \", f_1)\n",
        "porcentaje_sat=(len(satisfechos) / len(satisfaccion_1)) * 100\n",
        "print(\"El porcentaje de usuarios satisfechos es:\", porcentaje_sat)\n"
      ],
      "metadata": {
        "colab": {
          "base_uri": "https://localhost:8080/"
        },
        "id": "2UF_jCX178nZ",
        "outputId": "38cda941-a7e0-471e-d537-dbe505a88116"
      },
      "execution_count": 41,
      "outputs": [
        {
          "output_type": "stream",
          "name": "stdout",
          "text": [
            "El numero de usuarios satisfechos es:  6\n",
            "El porcentaje de usuarios satisfechos es: 25.0\n"
          ]
        }
      ]
    },
    {
      "cell_type": "code",
      "source": [
        "insatisfechos = satisfaccion_1.loc[satisfaccion_1['disponibilidad'] == \"Insatisfech@\"]\n",
        "f_2, c_2=insatisfechos.shape\n",
        "print(\"el numero de usuarios insatisfechos son: \", f_2)\n",
        "porcentaje_insat=(len(insatisfechos) / len(satisfaccion_1)) * 100\n",
        "print(\"El porcentaje de usuarios insatisfechos es:\", porcentaje_insat)\n"
      ],
      "metadata": {
        "colab": {
          "base_uri": "https://localhost:8080/"
        },
        "id": "CotExsZuBLBn",
        "outputId": "c65ab4f9-b471-46c5-8d63-03fe1ec93a04"
      },
      "execution_count": 42,
      "outputs": [
        {
          "output_type": "stream",
          "name": "stdout",
          "text": [
            "el numero de usuarios insatisfechos son:  3\n",
            "El porcentaje de usuarios insatisfechos es: 12.5\n"
          ]
        }
      ]
    },
    {
      "cell_type": "code",
      "source": [
        "minsatisfechos = satisfaccion_1.loc[satisfaccion_1['disponibilidad'] == \"Muy insatisfech@\"]\n",
        "f_3, c_3=minsatisfechos.shape\n",
        "print(\"El numero de usuarios Muy insatifechos son: \", f_3)\n",
        "porcentaje_minsat=(len(minsatisfechos) / len(satisfaccion_1)) * 100\n",
        "print(\"El porcentaje de usuarios muy insatisfechos es:\", porcentaje_minsat)"
      ],
      "metadata": {
        "colab": {
          "base_uri": "https://localhost:8080/"
        },
        "id": "lynvv4T2B7n-",
        "outputId": "8d7659e2-52a6-46dd-f178-d79465a7fc00"
      },
      "execution_count": 43,
      "outputs": [
        {
          "output_type": "stream",
          "name": "stdout",
          "text": [
            "El numero de usuarios Muy insatifechos son:  1\n",
            "El porcentaje de usuarios muy insatisfechos es: 4.166666666666666\n"
          ]
        }
      ]
    },
    {
      "cell_type": "code",
      "source": [
        "neutro = satisfaccion_1.loc[satisfaccion_1['disponibilidad'] == \"Neutral\"]\n",
        "f_4, c_4=neutro.shape\n",
        "print(\"El numero de usuarios que escogieron esta opcion son: \", f_4)\n",
        "porcentaje_neutro=(len(neutro) / len(satisfaccion_1)) * 100\n",
        "print(\"El porcentaje de usuarios que escogieron esta opcion es:\", porcentaje_neutro)"
      ],
      "metadata": {
        "colab": {
          "base_uri": "https://localhost:8080/"
        },
        "id": "WkgGybiWCK2J",
        "outputId": "0ee7d5c8-af5b-434b-86e3-c8c96fbade9a"
      },
      "execution_count": 44,
      "outputs": [
        {
          "output_type": "stream",
          "name": "stdout",
          "text": [
            "El numero de usuarios que escogieron esta opcion son:  14\n",
            "El porcentaje de usuarios que escogieron esta opcion es: 58.333333333333336\n"
          ]
        }
      ]
    },
    {
      "cell_type": "code",
      "source": [
        "porcentajes = [porcentaje_sat, porcentaje_insat, porcentaje_minsat, porcentaje_neutro]\n",
        "etiquetas = ['Satisfecho', 'Insatisfecho', 'Muy insatisfecho', 'Neutral']\n",
        "\n",
        "plt.figure(figsize=(10, 6))\n",
        "plt.bar(etiquetas, porcentajes, color='palegreen')\n",
        "plt.xlabel('Niveles de satisfacción')\n",
        "plt.ylabel('Porcentaje')\n",
        "plt.title('Distribución de satisfacción de usuarios')\n",
        "plt.grid(True)\n",
        "plt.show()"
      ],
      "metadata": {
        "colab": {
          "base_uri": "https://localhost:8080/",
          "height": 564
        },
        "id": "BUgQzRxIvCmP",
        "outputId": "6b4a5527-b9db-404a-fc26-31a17af87663"
      },
      "execution_count": 45,
      "outputs": [
        {
          "output_type": "display_data",
          "data": {
            "text/plain": [
              "<Figure size 1000x600 with 1 Axes>"
            ],
            "image/png": "[encoded data removed]"
          },
          "metadata": {}
        }
      ]
    },
    {
      "cell_type": "code",
      "source": [
        "#DATAFRAME SEGUNDA ENCUESTA\n",
        "satisfaccion_2=df_3.loc[:,['satisfaccion']]\n",
        "satisfechos_2 = satisfaccion_2.loc[satisfaccion_2['satisfaccion'] == \"Satisfecho\"]\n",
        "f_5, c_5=satisfechos_2.shape\n",
        "print (\"El numero de usuarios que se encuetran satisfechos son: \", f_5)\n",
        "porcentaje_satisfechos2=(len(satisfechos_2) / len(satisfaccion_2)) * 100\n",
        "print(\"El porcentaje de usuarios satisfechos es:\", porcentaje_satisfechos2)"
      ],
      "metadata": {
        "colab": {
          "base_uri": "https://localhost:8080/"
        },
        "id": "AxTuksKh8Rgp",
        "outputId": "a637d7e5-bfdb-4ebe-aa59-7773e499e750"
      },
      "execution_count": 46,
      "outputs": [
        {
          "output_type": "stream",
          "name": "stdout",
          "text": [
            "El numero de usuarios que se encuetran satisfechos son:  20\n",
            "El porcentaje de usuarios satisfechos es: 46.51162790697674\n"
          ]
        }
      ]
    },
    {
      "cell_type": "code",
      "source": [
        "insatisfechos_2 = satisfaccion_2.loc[satisfaccion_2['satisfaccion'] == \"Insatisfecho\"]\n",
        "f_6, c_6=insatisfechos_2.shape\n",
        "print(\"La cantidad de usuarios insatisfechos son:\", f_6)\n",
        "porcentaje_insatisfechos2=(len(insatisfechos_2) / len(satisfaccion_2)) * 100\n",
        "print(\"El porcentaje de usuarios insatisfechos es:\", porcentaje_insatisfechos2)"
      ],
      "metadata": {
        "colab": {
          "base_uri": "https://localhost:8080/"
        },
        "id": "OxgTC_kLC2n-",
        "outputId": "8e94f028-1b5c-40c7-e616-139e75561a98"
      },
      "execution_count": 47,
      "outputs": [
        {
          "output_type": "stream",
          "name": "stdout",
          "text": [
            "La cantidad de usuarios insatisfechos son: 21\n",
            "El porcentaje de usuarios insatisfechos es: 48.837209302325576\n"
          ]
        }
      ]
    },
    {
      "cell_type": "code",
      "source": [
        "minsatisfechos_2 = satisfaccion_2.loc[satisfaccion_2['satisfaccion'] == \"Muy insatisfecho\"]\n",
        "f_7, c_7=minsatisfechos_2.shape\n",
        "print(\"La cantidad de personas que estan muy insatisfecho son:\", f_7)\n",
        "porcentaje_mins2=(len(minsatisfechos_2) / len(satisfaccion_2)) * 100\n",
        "print(\"el porcentaje de usuarios muy insatisfechos es:\", porcentaje_mins2)"
      ],
      "metadata": {
        "colab": {
          "base_uri": "https://localhost:8080/"
        },
        "id": "Qq1Ric7ADPCe",
        "outputId": "87aed043-8207-47ac-a1d8-0d8498aeee1f"
      },
      "execution_count": 48,
      "outputs": [
        {
          "output_type": "stream",
          "name": "stdout",
          "text": [
            "La cantidad de personas que estan muy insatisfecho son: 1\n",
            "el porcentaje de usuarios muy insatisfechos es: 2.3255813953488373\n"
          ]
        }
      ]
    },
    {
      "cell_type": "code",
      "source": [
        "labels = ['Satisfecho', 'Insatisfecho', 'Muy insatisfecho']\n",
        "porcentajes = [porcentaje_satisfechos2, porcentaje_insatisfechos2, porcentaje_mins2]\n",
        "\n",
        "plt.figure(figsize=(8, 6))\n",
        "plt.bar(labels, porcentajes, color=['green', 'green', 'green'])\n",
        "\n",
        "plt.title('Satisfacción de Usuarios - Segunda Encuesta')\n",
        "plt.xlabel('Satisfacción')\n",
        "plt.ylabel('Porcentaje')\n",
        "\n",
        "for i in range(len(labels)):\n",
        "    plt.text(i, porcentajes[i], f'{porcentajes[i]:.2f}%', ha = 'center', va = 'bottom')\n",
        "plt.show()\n"
      ],
      "metadata": {
        "colab": {
          "base_uri": "https://localhost:8080/",
          "height": 565
        },
        "id": "AtiMdaprv95X",
        "outputId": "ffc4bc62-a0e7-4261-9825-6953e046befc"
      },
      "execution_count": 49,
      "outputs": [
        {
          "output_type": "display_data",
          "data": {
            "text/plain": [
              "<Figure size 800x600 with 1 Axes>"
            ],
            "image/png": "[encoded data removed]"
          },
          "metadata": {}
        }
      ]
    },
    {
      "cell_type": "code",
      "source": [
        "#Grafico comparativo de ambas graficas\n",
        "porcentajes = [porcentaje_sat, porcentaje_insat, porcentaje_minsat]\n",
        "etiquetas = ['Satisfecho', 'Insatisfecho', 'Muy insatisfecho']\n",
        "\n",
        "porcentajes2 = [porcentaje_satisfechos2, porcentaje_insatisfechos2, porcentaje_mins2]\n",
        "\n",
        "bar_width = 0.35\n",
        "\n",
        "posiciones = range(len(etiquetas))\n",
        "\n",
        "fig, ax = plt.subplots(figsize=(10, 6))\n",
        "\n",
        "bars1 = ax.bar(posiciones, porcentajes, bar_width, label='Primera Encuesta', color='palegreen')\n",
        "\n",
        "bars2 = ax.bar([p + bar_width for p in posiciones], porcentajes2, bar_width, label='Segunda Encuesta', color=['green', 'green', 'green'])\n",
        "\n",
        "\n",
        "ax.set_xlabel('Niveles de satisfacción')\n",
        "ax.set_ylabel('Porcentaje')\n",
        "ax.set_title('Comparación de Satisfacción de Usuarios')\n",
        "ax.set_xticks([p + bar_width / 2 for p in posiciones])\n",
        "ax.set_xticklabels(etiquetas)\n",
        "ax.legend()\n",
        "\n",
        "for bars in [bars1, bars2]:\n",
        "    for bar in bars:\n",
        "        height = bar.get_height()\n",
        "        ax.annotate(f'{height:.2f}%', xy=(bar.get_x() + bar.get_width() / 2, height), xytext=(0, 3), textcoords='offset points', ha='center', va='bottom')\n",
        "\n",
        "plt.grid(True)\n",
        "plt.show()\n"
      ],
      "metadata": {
        "colab": {
          "base_uri": "https://localhost:8080/",
          "height": 565
        },
        "id": "I5WOLP4mwsQR",
        "outputId": "b4182277-5e00-4dbc-eb9b-e72464dc0e40"
      },
      "execution_count": 50,
      "outputs": [
        {
          "output_type": "display_data",
          "data": {
            "text/plain": [
              "<Figure size 1000x600 with 1 Axes>"
            ],
            "image/png": "[encoded data removed]"
          },
          "metadata": {}
        }
      ]
    },
    {
      "cell_type": "markdown",
      "source": [
        "¿Cuál es el factor que los usuarios consideran como la principal causa de los tiempos de espera en la cafetería, y cuál es el menos mencionado? m"
      ],
      "metadata": {
        "id": "lXwQYY1MJKIh"
      }
    },
    {
      "cell_type": "code",
      "source": [
        "conteo_falta_personal = df_3['factores'].apply(lambda x: 'Falta de personal' in x).sum()\n",
        "conteo_demanda_alta = df_3['factores'].apply(lambda x: 'Demanda alta en ciertos momentos del día' in x).sum()\n",
        "conteo_procesos_lentos = df_3['factores'].apply(lambda x: 'Procesos lentos en la preparación de alimentos' in x).sum()\n",
        "\n",
        "porcentaje_falta_personal = (conteo_falta_personal /usuarios) * 100\n",
        "porcentaje_demanda_alta = (conteo_demanda_alta / usuarios) * 100\n",
        "porcentaje_procesos_lentos = (conteo_procesos_lentos / usuarios) * 100"
      ],
      "metadata": {
        "id": "RBVVJ_axK3q-"
      },
      "execution_count": 51,
      "outputs": []
    },
    {
      "cell_type": "code",
      "source": [
        "labels = ['Falta de personal', 'Demanda alta en ciertos momentos del día', 'Procesos lentos en la preparación de alimentos']\n",
        "sizes = [porcentaje_falta_personal, porcentaje_demanda_alta, porcentaje_procesos_lentos]\n",
        "colors = ['#ff9999', '#66b3ff', '#99ff99']\n",
        "fig1, ax1 = plt.subplots()\n",
        "ax1.pie(sizes, labels=labels, colors=colors, autopct='%1.2f%%', startangle=90)\n",
        "ax1.axis('equal')\n",
        "plt.title('Porcentaje de usuarios que seleccionaron cada opción')\n",
        "plt.show()"
      ],
      "metadata": {
        "colab": {
          "base_uri": "https://localhost:8080/",
          "height": 432
        },
        "id": "vLyVNedYvA9W",
        "outputId": "d5e92ef2-76a4-4485-ffb1-52e86a20f21d"
      },
      "execution_count": 52,
      "outputs": [
        {
          "output_type": "display_data",
          "data": {
            "text/plain": [
              "<Figure size 640x480 with 1 Axes>"
            ],
            "image/png": "[encoded data removed]"
          },
          "metadata": {}
        }
      ]
    },
    {
      "cell_type": "markdown",
      "source": [
        "Identificación de posibles causas de los tiempos de espera más largos: ¿Qué factores podrían estar contribuyendo a los tiempos de espera más largos en los momentos específicos del día identificados por los usuarios? mj"
      ],
      "metadata": {
        "id": "Uue-7xKjnqEi"
      }
    },
    {
      "cell_type": "code",
      "source": [
        "#split para dividir cada cadena de texto en la columna por la coma seguida de un espacio (', ').\n",
        "factores = df_3['factores'].str.split(', ').explode().value_counts()\n",
        "print(factores)"
      ],
      "metadata": {
        "id": "0IIgiqT8nq6t",
        "colab": {
          "base_uri": "https://localhost:8080/"
        },
        "outputId": "c6fd12a1-9f81-4fdb-b951-e170b2fb74a1"
      },
      "execution_count": 53,
      "outputs": [
        {
          "output_type": "stream",
          "name": "stdout",
          "text": [
            "factores\n",
            "Demanda alta en ciertos momentos del día          40\n",
            "Falta de personal                                 12\n",
            "Procesos lentos en la preparación de alimentos     8\n",
            "Name: count, dtype: int64\n"
          ]
        }
      ]
    },
    {
      "cell_type": "code",
      "source": [
        "satisfaccion_por_factores = df_3['factores'].str.split(', ')\n",
        "df_satisfaccion_por_factores = df_3.loc[df_3.index.repeat(satisfaccion_por_factores.apply(len))].copy()\n",
        "df_satisfaccion_por_factores['factor'] = [factor for sublist in satisfaccion_por_factores for factor in sublist]\n",
        "df_satisfaccion_por_factores.reset_index(drop=True, inplace=True)"
      ],
      "metadata": {
        "id": "CTGzjGlDntGR"
      },
      "execution_count": 54,
      "outputs": []
    },
    {
      "cell_type": "code",
      "source": [
        "plt.figure(figsize=(12, 8))\n",
        "sns.countplot(data=df_satisfaccion_por_factores, y='factor', hue='satisfaccion', palette='Set2')\n",
        "plt.title('Distribución de Satisfacción por Factores que Contribuyen a los Tiempos de Espera')\n",
        "plt.xlabel('Número de Respuestas')\n",
        "plt.ylabel('Factores que Contribuyen a los Tiempos de Espera')\n",
        "plt.legend(title='Satisfacción', bbox_to_anchor=(1.05, 1), loc='upper left')\n",
        "plt.tight_layout()\n",
        "plt.show()"
      ],
      "metadata": {
        "id": "Xw2qFuzFnwRg",
        "colab": {
          "base_uri": "https://localhost:8080/",
          "height": 807
        },
        "outputId": "31d713f1-bf22-45ba-dfdd-4aa99dd6dd32"
      },
      "execution_count": 55,
      "outputs": [
        {
          "output_type": "display_data",
          "data": {
            "text/plain": [
              "<Figure size 1200x800 with 1 Axes>"
            ],
            "image/png": "[encoded data removed]"
          },
          "metadata": {}
        }
      ]
    },
    {
      "cell_type": "markdown",
      "source": [
        "Análisis de satisfacción del cliente: ¿Cómo se correlaciona la tolerancia a la espera con la satisfacción general del cliente? ¿Los usuarios que están dispuestos a esperar más tiempo tienden a estar menos satisfechos con el servicio?"
      ],
      "metadata": {
        "id": "XdF4DJyCn2NH"
      }
    },
    {
      "cell_type": "code",
      "source": [
        "sns.set(style=\"whitegrid\")\n",
        "\n",
        "plt.figure(figsize=(10, 6))\n",
        "sns.histplot(data=df_3, x='tiempo', hue='satisfaccion', multiple=\"stack\",\n",
        "             palette=\"viridis\", edgecolor=\".3\", linewidth=.5)\n",
        "\n",
        "plt.xlabel('Tiempo de espera', fontsize=14)\n",
        "plt.ylabel('Cantidad de clientes', fontsize=14)\n",
        "plt.title('Distribución de satisfacción de los usuarios por tiempo de espera', fontsize=16)\n",
        "\n",
        "plt.xticks(rotation=0)\n",
        "plt.tight_layout()\n",
        "plt.show()"
      ],
      "metadata": {
        "id": "zAaPDwK1nz2Q",
        "colab": {
          "base_uri": "https://localhost:8080/",
          "height": 601
        },
        "outputId": "2ba30500-b927-4bc0-d016-b3b14734344e"
      },
      "execution_count": 56,
      "outputs": [
        {
          "output_type": "display_data",
          "data": {
            "text/plain": [
              "<Figure size 1000x600 with 1 Axes>"
            ],
            "image/png": "[encoded data removed]"
          },
          "metadata": {}
        }
      ]
    },
    {
      "cell_type": "markdown",
      "source": [
        "Relación entre la frecuencia de visitas y los tiempos de espera: ¿Existe alguna relación entre la frecuencia con la que los usuarios visitan la cafetería y los tiempos de espera que están dispuestos a tolerar? mj"
      ],
      "metadata": {
        "id": "X5UVTTMXn3Pn"
      }
    },
    {
      "cell_type": "code",
      "source": [
        "custom_palette = [\"#66c2a5\", \"#fa8072\", \"#8da0cb\", \"#e78ac3\",\"#03a9f4\"]\n",
        "\n",
        "sns.set(style=\"whitegrid\")\n",
        "plt.figure(figsize=(10, 6))\n",
        "sns.histplot(data=df_3, x='tiempo', hue='frecuencia', multiple=\"stack\",\n",
        "             palette=custom_palette, edgecolor=\".3\", linewidth=.5)\n",
        "\n",
        "plt.xlabel('Tiempo de espera', fontsize=14)\n",
        "plt.ylabel('Cantidad de usuarios', fontsize=14)\n",
        "plt.title('Distribución de la frecuencia con la que los usuarios visitan la cafetería por tiempo de espera', fontsize=16)\n",
        "\n",
        "plt.xticks(rotation=0)\n",
        "plt.tight_layout()\n",
        "plt.show()"
      ],
      "metadata": {
        "id": "DJptrCOhn52A",
        "colab": {
          "base_uri": "https://localhost:8080/",
          "height": 601
        },
        "outputId": "7d893740-a7bb-4a99-a942-86862a12ea65"
      },
      "execution_count": 57,
      "outputs": [
        {
          "output_type": "display_data",
          "data": {
            "text/plain": [
              "<Figure size 1000x600 with 1 Axes>"
            ],
            "image/png": "[encoded data removed]"
          },
          "metadata": {}
        }
      ]
    }
  ]
}